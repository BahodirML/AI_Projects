{
  "nbformat": 4,
  "nbformat_minor": 0,
  "metadata": {
    "colab": {
      "provenance": [],
      "machine_shape": "hm",
      "include_colab_link": true
    },
    "kernelspec": {
      "name": "python3",
      "display_name": "Python 3"
    },
    "language_info": {
      "name": "python"
    }
  },
  "cells": [
    {
      "cell_type": "markdown",
      "metadata": {
        "id": "view-in-github",
        "colab_type": "text"
      },
      "source": [
        "<a href=\"https://colab.research.google.com/github/BahodirML/Coding_Practices/blob/main/test.ipynb\" target=\"_parent\"><img src=\"https://colab.research.google.com/assets/colab-badge.svg\" alt=\"Open In Colab\"/></a>"
      ]
    },
    {
      "cell_type": "code",
      "source": [
        "!pip install --upgrade google-cloud-bigquery google-cloud-bigquery-storage"
      ],
      "metadata": {
        "colab": {
          "base_uri": "https://localhost:8080/"
        },
        "id": "uPi8YzjmS-Ma",
        "outputId": "a72efad1-95e2-4adf-8a4c-ef37d5d9c72a"
      },
      "execution_count": null,
      "outputs": [
        {
          "output_type": "stream",
          "name": "stdout",
          "text": [
            "Requirement already satisfied: google-cloud-bigquery in /usr/local/lib/python3.10/dist-packages (3.24.0)\n",
            "Requirement already satisfied: google-cloud-bigquery-storage in /usr/local/lib/python3.10/dist-packages (2.25.0)\n",
            "Requirement already satisfied: google-api-core[grpc]!=2.0.*,!=2.1.*,!=2.10.*,!=2.2.*,!=2.3.*,!=2.4.*,!=2.5.*,!=2.6.*,!=2.7.*,!=2.8.*,!=2.9.*,<3.0.0dev,>=1.34.1 in /usr/local/lib/python3.10/dist-packages (from google-cloud-bigquery) (2.11.1)\n",
            "Requirement already satisfied: google-auth<3.0.0dev,>=2.14.1 in /usr/local/lib/python3.10/dist-packages (from google-cloud-bigquery) (2.27.0)\n",
            "Requirement already satisfied: google-cloud-core<3.0.0dev,>=1.6.0 in /usr/local/lib/python3.10/dist-packages (from google-cloud-bigquery) (2.3.3)\n",
            "Requirement already satisfied: google-resumable-media<3.0dev,>=0.6.0 in /usr/local/lib/python3.10/dist-packages (from google-cloud-bigquery) (2.7.0)\n",
            "Requirement already satisfied: packaging>=20.0.0 in /usr/local/lib/python3.10/dist-packages (from google-cloud-bigquery) (24.0)\n",
            "Requirement already satisfied: python-dateutil<3.0dev,>=2.7.2 in /usr/local/lib/python3.10/dist-packages (from google-cloud-bigquery) (2.8.2)\n",
            "Requirement already satisfied: requests<3.0.0dev,>=2.21.0 in /usr/local/lib/python3.10/dist-packages (from google-cloud-bigquery) (2.31.0)\n",
            "Requirement already satisfied: proto-plus<2.0.0dev,>=1.22.0 in /usr/local/lib/python3.10/dist-packages (from google-cloud-bigquery-storage) (1.23.0)\n",
            "Requirement already satisfied: protobuf!=3.20.0,!=3.20.1,!=4.21.0,!=4.21.1,!=4.21.2,!=4.21.3,!=4.21.4,!=4.21.5,<5.0.0dev,>=3.19.5 in /usr/local/lib/python3.10/dist-packages (from google-cloud-bigquery-storage) (3.20.3)\n",
            "Requirement already satisfied: googleapis-common-protos<2.0.dev0,>=1.56.2 in /usr/local/lib/python3.10/dist-packages (from google-api-core[grpc]!=2.0.*,!=2.1.*,!=2.10.*,!=2.2.*,!=2.3.*,!=2.4.*,!=2.5.*,!=2.6.*,!=2.7.*,!=2.8.*,!=2.9.*,<3.0.0dev,>=1.34.1->google-cloud-bigquery) (1.63.1)\n",
            "Requirement already satisfied: grpcio<2.0dev,>=1.33.2 in /usr/local/lib/python3.10/dist-packages (from google-api-core[grpc]!=2.0.*,!=2.1.*,!=2.10.*,!=2.2.*,!=2.3.*,!=2.4.*,!=2.5.*,!=2.6.*,!=2.7.*,!=2.8.*,!=2.9.*,<3.0.0dev,>=1.34.1->google-cloud-bigquery) (1.64.1)\n",
            "Requirement already satisfied: grpcio-status<2.0.dev0,>=1.33.2 in /usr/local/lib/python3.10/dist-packages (from google-api-core[grpc]!=2.0.*,!=2.1.*,!=2.10.*,!=2.2.*,!=2.3.*,!=2.4.*,!=2.5.*,!=2.6.*,!=2.7.*,!=2.8.*,!=2.9.*,<3.0.0dev,>=1.34.1->google-cloud-bigquery) (1.48.2)\n",
            "Requirement already satisfied: cachetools<6.0,>=2.0.0 in /usr/local/lib/python3.10/dist-packages (from google-auth<3.0.0dev,>=2.14.1->google-cloud-bigquery) (5.3.3)\n",
            "Requirement already satisfied: pyasn1-modules>=0.2.1 in /usr/local/lib/python3.10/dist-packages (from google-auth<3.0.0dev,>=2.14.1->google-cloud-bigquery) (0.4.0)\n",
            "Requirement already satisfied: rsa<5,>=3.1.4 in /usr/local/lib/python3.10/dist-packages (from google-auth<3.0.0dev,>=2.14.1->google-cloud-bigquery) (4.9)\n",
            "Requirement already satisfied: google-crc32c<2.0dev,>=1.0 in /usr/local/lib/python3.10/dist-packages (from google-resumable-media<3.0dev,>=0.6.0->google-cloud-bigquery) (1.5.0)\n",
            "Requirement already satisfied: six>=1.5 in /usr/local/lib/python3.10/dist-packages (from python-dateutil<3.0dev,>=2.7.2->google-cloud-bigquery) (1.16.0)\n",
            "Requirement already satisfied: charset-normalizer<4,>=2 in /usr/local/lib/python3.10/dist-packages (from requests<3.0.0dev,>=2.21.0->google-cloud-bigquery) (3.3.2)\n",
            "Requirement already satisfied: idna<4,>=2.5 in /usr/local/lib/python3.10/dist-packages (from requests<3.0.0dev,>=2.21.0->google-cloud-bigquery) (3.7)\n",
            "Requirement already satisfied: urllib3<3,>=1.21.1 in /usr/local/lib/python3.10/dist-packages (from requests<3.0.0dev,>=2.21.0->google-cloud-bigquery) (2.0.7)\n",
            "Requirement already satisfied: certifi>=2017.4.17 in /usr/local/lib/python3.10/dist-packages (from requests<3.0.0dev,>=2.21.0->google-cloud-bigquery) (2024.6.2)\n",
            "Requirement already satisfied: pyasn1<0.7.0,>=0.4.6 in /usr/local/lib/python3.10/dist-packages (from pyasn1-modules>=0.2.1->google-auth<3.0.0dev,>=2.14.1->google-cloud-bigquery) (0.6.0)\n"
          ]
        }
      ]
    },
    {
      "cell_type": "code",
      "source": [
        "from google.colab import auth\n",
        "auth.authenticate_user()"
      ],
      "metadata": {
        "id": "eLrQouMQS-JV"
      },
      "execution_count": null,
      "outputs": []
    },
    {
      "cell_type": "markdown",
      "source": [
        "# Setup\n",
        "- install\n",
        "- authenticatiopn"
      ],
      "metadata": {
        "id": "EgBfujqsYuvj"
      }
    },
    {
      "cell_type": "markdown",
      "source": [
        "# Load cronos.labs campain data"
      ],
      "metadata": {
        "id": "CUj-da5AYzNf"
      }
    },
    {
      "cell_type": "code",
      "source": [
        "import gdown\n",
        "import zipfile\n",
        "import io\n",
        "import os\n",
        "import pandas as pd\n",
        "url = 'https://drive.google.com/uc?id=1MGvcUsln5vykGQj3tkpUds3RtwotQNb7'\n",
        "output = 'cronos_enriched.zip'\n",
        "\n",
        "if not os.path.exists(output):\n",
        "    # Download the file if it does not exist\n",
        "    gdown.download(url, output, quiet=False)\n",
        "\n",
        "with zipfile.ZipFile(output) as z:\n",
        "    with z.open(z.namelist()[0]) as f:\n",
        "        enriched_df = pd.read_csv(io.BytesIO(f.read()))\n",
        "\n",
        "enriched_df.head()"
      ],
      "metadata": {
        "id": "VT5gXvH-lys3",
        "outputId": "058d4fe9-a76e-4395-d9ac-24ba3633e732",
        "colab": {
          "base_uri": "https://localhost:8080/",
          "height": 470
        }
      },
      "execution_count": null,
      "outputs": [
        {
          "output_type": "stream",
          "name": "stderr",
          "text": [
            "Downloading...\n",
            "From (original): https://drive.google.com/uc?id=1MGvcUsln5vykGQj3tkpUds3RtwotQNb7\n",
            "From (redirected): https://drive.google.com/uc?id=1MGvcUsln5vykGQj3tkpUds3RtwotQNb7&confirm=t&uuid=0d65a672-95fc-466a-8408-03cfb66a097f\n",
            "To: /content/cronos_enriched.zip\n",
            "100%|██████████| 155M/155M [00:02<00:00, 72.7MB/s]\n",
            "<ipython-input-5-affeeac3b7a1>:15: DtypeWarning: Columns (11,52,53,177,329,335,369,370,372,413,422,430,511) have mixed types. Specify dtype option on import or set low_memory=False.\n",
            "  enriched_df = pd.read_csv(io.BytesIO(f.read()))\n"
          ]
        },
        {
          "output_type": "execute_result",
          "data": {
            "text/plain": [
              "                    DFP_js_intlDT_intlDateTimeFormat DFP_js_intlDT_hourCycle  \\\n",
              "0  June 3, 2024 at 7:39:15 PM Central European Su...                     h12   \n",
              "1      June 3, 2024 at 9:05:45 PM Iran Standard Time                     h12   \n",
              "2   June 1, 2024 at 12:10:14 PM West Kazakhstan Time                     h12   \n",
              "3  June 1, 2024 at 1:13:00 AM Uzbekistan Standard...                     h12   \n",
              "4  June 1, 2024 at 12:58:27 AM Uzbekistan Standar...                     h12   \n",
              "\n",
              "  DFP_js_intlDT_locale  DFP_js_intlDT_executionTime DFP_js_intlDT_timeZone  \\\n",
              "0                en-US                          0.4            Europe/Rome   \n",
              "1                en-US                          1.2            Asia/Tehran   \n",
              "2                en-US                          0.2         Asia/Qyzylorda   \n",
              "3                en-US                          0.5          Asia/Tashkent   \n",
              "4                en-US                          0.4          Asia/Tashkent   \n",
              "\n",
              "  DFP_js_intlDT_numberingSystem DFP_js_intlDT_calendar DFP_js_viewport_client  \\\n",
              "0                          latn                gregory               1530x848   \n",
              "1                          latn                gregory                407x798   \n",
              "2                          latn                gregory               1519x730   \n",
              "3                          latn                gregory               1680x881   \n",
              "4                          latn                gregory               1200x750   \n",
              "\n",
              "   DFP_js_viewport_executionTime DFP_js_viewport_inner  ...  \\\n",
              "0                            0.2              1545x848  ...   \n",
              "1                            0.9               407x798  ...   \n",
              "2                            0.1              1536x730  ...   \n",
              "3                            0.2              1680x881  ...   \n",
              "4                            0.2              1200x750  ...   \n",
              "\n",
              "  Lie_heuristic_weight_score Lie_rule_flag Lie_rule_flag_count  \\\n",
              "0                        0.4          True                   2   \n",
              "1                        0.0         False                   0   \n",
              "2                        0.0         False                   0   \n",
              "3                        0.0         False                   0   \n",
              "4                        0.4          True                   8   \n",
              "\n",
              "  bot_category_heuristics  CascM_mouseMovement_botness ML_botness_probability  \\\n",
              "0                   Human                     0.924927               0.749629   \n",
              "1                   Human                          NaN               0.015019   \n",
              "2              Likely Bot                     0.800494               0.218462   \n",
              "3              Likely Bot                     0.776429               0.419831   \n",
              "4                     Bot                     0.989639               0.997214   \n",
              "\n",
              "  H_botness_probability Lie_botness_probability  botness_score  \\\n",
              "0              0.181818                     1.0       0.990000   \n",
              "1              0.090909                     0.0       0.052964   \n",
              "2              0.272727                     0.0       0.391103   \n",
              "3              0.318182                     0.0       0.458156   \n",
              "4              0.454545                     1.0       0.990000   \n",
              "\n",
              "  combined_bot_category  \n",
              "0                   Bot  \n",
              "1                 Human  \n",
              "2            Suspicious  \n",
              "3            Likely Bot  \n",
              "4                   Bot  \n",
              "\n",
              "[5 rows x 615 columns]"
            ],
            "text/html": [
              "\n",
              "  <div id=\"df-3e7623e2-da29-432d-8478-e0f0b306372b\" class=\"colab-df-container\">\n",
              "    <div>\n",
              "<style scoped>\n",
              "    .dataframe tbody tr th:only-of-type {\n",
              "        vertical-align: middle;\n",
              "    }\n",
              "\n",
              "    .dataframe tbody tr th {\n",
              "        vertical-align: top;\n",
              "    }\n",
              "\n",
              "    .dataframe thead th {\n",
              "        text-align: right;\n",
              "    }\n",
              "</style>\n",
              "<table border=\"1\" class=\"dataframe\">\n",
              "  <thead>\n",
              "    <tr style=\"text-align: right;\">\n",
              "      <th></th>\n",
              "      <th>DFP_js_intlDT_intlDateTimeFormat</th>\n",
              "      <th>DFP_js_intlDT_hourCycle</th>\n",
              "      <th>DFP_js_intlDT_locale</th>\n",
              "      <th>DFP_js_intlDT_executionTime</th>\n",
              "      <th>DFP_js_intlDT_timeZone</th>\n",
              "      <th>DFP_js_intlDT_numberingSystem</th>\n",
              "      <th>DFP_js_intlDT_calendar</th>\n",
              "      <th>DFP_js_viewport_client</th>\n",
              "      <th>DFP_js_viewport_executionTime</th>\n",
              "      <th>DFP_js_viewport_inner</th>\n",
              "      <th>...</th>\n",
              "      <th>Lie_heuristic_weight_score</th>\n",
              "      <th>Lie_rule_flag</th>\n",
              "      <th>Lie_rule_flag_count</th>\n",
              "      <th>bot_category_heuristics</th>\n",
              "      <th>CascM_mouseMovement_botness</th>\n",
              "      <th>ML_botness_probability</th>\n",
              "      <th>H_botness_probability</th>\n",
              "      <th>Lie_botness_probability</th>\n",
              "      <th>botness_score</th>\n",
              "      <th>combined_bot_category</th>\n",
              "    </tr>\n",
              "  </thead>\n",
              "  <tbody>\n",
              "    <tr>\n",
              "      <th>0</th>\n",
              "      <td>June 3, 2024 at 7:39:15 PM Central European Su...</td>\n",
              "      <td>h12</td>\n",
              "      <td>en-US</td>\n",
              "      <td>0.4</td>\n",
              "      <td>Europe/Rome</td>\n",
              "      <td>latn</td>\n",
              "      <td>gregory</td>\n",
              "      <td>1530x848</td>\n",
              "      <td>0.2</td>\n",
              "      <td>1545x848</td>\n",
              "      <td>...</td>\n",
              "      <td>0.4</td>\n",
              "      <td>True</td>\n",
              "      <td>2</td>\n",
              "      <td>Human</td>\n",
              "      <td>0.924927</td>\n",
              "      <td>0.749629</td>\n",
              "      <td>0.181818</td>\n",
              "      <td>1.0</td>\n",
              "      <td>0.990000</td>\n",
              "      <td>Bot</td>\n",
              "    </tr>\n",
              "    <tr>\n",
              "      <th>1</th>\n",
              "      <td>June 3, 2024 at 9:05:45 PM Iran Standard Time</td>\n",
              "      <td>h12</td>\n",
              "      <td>en-US</td>\n",
              "      <td>1.2</td>\n",
              "      <td>Asia/Tehran</td>\n",
              "      <td>latn</td>\n",
              "      <td>gregory</td>\n",
              "      <td>407x798</td>\n",
              "      <td>0.9</td>\n",
              "      <td>407x798</td>\n",
              "      <td>...</td>\n",
              "      <td>0.0</td>\n",
              "      <td>False</td>\n",
              "      <td>0</td>\n",
              "      <td>Human</td>\n",
              "      <td>NaN</td>\n",
              "      <td>0.015019</td>\n",
              "      <td>0.090909</td>\n",
              "      <td>0.0</td>\n",
              "      <td>0.052964</td>\n",
              "      <td>Human</td>\n",
              "    </tr>\n",
              "    <tr>\n",
              "      <th>2</th>\n",
              "      <td>June 1, 2024 at 12:10:14 PM West Kazakhstan Time</td>\n",
              "      <td>h12</td>\n",
              "      <td>en-US</td>\n",
              "      <td>0.2</td>\n",
              "      <td>Asia/Qyzylorda</td>\n",
              "      <td>latn</td>\n",
              "      <td>gregory</td>\n",
              "      <td>1519x730</td>\n",
              "      <td>0.1</td>\n",
              "      <td>1536x730</td>\n",
              "      <td>...</td>\n",
              "      <td>0.0</td>\n",
              "      <td>False</td>\n",
              "      <td>0</td>\n",
              "      <td>Likely Bot</td>\n",
              "      <td>0.800494</td>\n",
              "      <td>0.218462</td>\n",
              "      <td>0.272727</td>\n",
              "      <td>0.0</td>\n",
              "      <td>0.391103</td>\n",
              "      <td>Suspicious</td>\n",
              "    </tr>\n",
              "    <tr>\n",
              "      <th>3</th>\n",
              "      <td>June 1, 2024 at 1:13:00 AM Uzbekistan Standard...</td>\n",
              "      <td>h12</td>\n",
              "      <td>en-US</td>\n",
              "      <td>0.5</td>\n",
              "      <td>Asia/Tashkent</td>\n",
              "      <td>latn</td>\n",
              "      <td>gregory</td>\n",
              "      <td>1680x881</td>\n",
              "      <td>0.2</td>\n",
              "      <td>1680x881</td>\n",
              "      <td>...</td>\n",
              "      <td>0.0</td>\n",
              "      <td>False</td>\n",
              "      <td>0</td>\n",
              "      <td>Likely Bot</td>\n",
              "      <td>0.776429</td>\n",
              "      <td>0.419831</td>\n",
              "      <td>0.318182</td>\n",
              "      <td>0.0</td>\n",
              "      <td>0.458156</td>\n",
              "      <td>Likely Bot</td>\n",
              "    </tr>\n",
              "    <tr>\n",
              "      <th>4</th>\n",
              "      <td>June 1, 2024 at 12:58:27 AM Uzbekistan Standar...</td>\n",
              "      <td>h12</td>\n",
              "      <td>en-US</td>\n",
              "      <td>0.4</td>\n",
              "      <td>Asia/Tashkent</td>\n",
              "      <td>latn</td>\n",
              "      <td>gregory</td>\n",
              "      <td>1200x750</td>\n",
              "      <td>0.2</td>\n",
              "      <td>1200x750</td>\n",
              "      <td>...</td>\n",
              "      <td>0.4</td>\n",
              "      <td>True</td>\n",
              "      <td>8</td>\n",
              "      <td>Bot</td>\n",
              "      <td>0.989639</td>\n",
              "      <td>0.997214</td>\n",
              "      <td>0.454545</td>\n",
              "      <td>1.0</td>\n",
              "      <td>0.990000</td>\n",
              "      <td>Bot</td>\n",
              "    </tr>\n",
              "  </tbody>\n",
              "</table>\n",
              "<p>5 rows × 615 columns</p>\n",
              "</div>\n",
              "    <div class=\"colab-df-buttons\">\n",
              "\n",
              "  <div class=\"colab-df-container\">\n",
              "    <button class=\"colab-df-convert\" onclick=\"convertToInteractive('df-3e7623e2-da29-432d-8478-e0f0b306372b')\"\n",
              "            title=\"Convert this dataframe to an interactive table.\"\n",
              "            style=\"display:none;\">\n",
              "\n",
              "  <svg xmlns=\"http://www.w3.org/2000/svg\" height=\"24px\" viewBox=\"0 -960 960 960\">\n",
              "    <path d=\"M120-120v-720h720v720H120Zm60-500h600v-160H180v160Zm220 220h160v-160H400v160Zm0 220h160v-160H400v160ZM180-400h160v-160H180v160Zm440 0h160v-160H620v160ZM180-180h160v-160H180v160Zm440 0h160v-160H620v160Z\"/>\n",
              "  </svg>\n",
              "    </button>\n",
              "\n",
              "  <style>\n",
              "    .colab-df-container {\n",
              "      display:flex;\n",
              "      gap: 12px;\n",
              "    }\n",
              "\n",
              "    .colab-df-convert {\n",
              "      background-color: #E8F0FE;\n",
              "      border: none;\n",
              "      border-radius: 50%;\n",
              "      cursor: pointer;\n",
              "      display: none;\n",
              "      fill: #1967D2;\n",
              "      height: 32px;\n",
              "      padding: 0 0 0 0;\n",
              "      width: 32px;\n",
              "    }\n",
              "\n",
              "    .colab-df-convert:hover {\n",
              "      background-color: #E2EBFA;\n",
              "      box-shadow: 0px 1px 2px rgba(60, 64, 67, 0.3), 0px 1px 3px 1px rgba(60, 64, 67, 0.15);\n",
              "      fill: #174EA6;\n",
              "    }\n",
              "\n",
              "    .colab-df-buttons div {\n",
              "      margin-bottom: 4px;\n",
              "    }\n",
              "\n",
              "    [theme=dark] .colab-df-convert {\n",
              "      background-color: #3B4455;\n",
              "      fill: #D2E3FC;\n",
              "    }\n",
              "\n",
              "    [theme=dark] .colab-df-convert:hover {\n",
              "      background-color: #434B5C;\n",
              "      box-shadow: 0px 1px 3px 1px rgba(0, 0, 0, 0.15);\n",
              "      filter: drop-shadow(0px 1px 2px rgba(0, 0, 0, 0.3));\n",
              "      fill: #FFFFFF;\n",
              "    }\n",
              "  </style>\n",
              "\n",
              "    <script>\n",
              "      const buttonEl =\n",
              "        document.querySelector('#df-3e7623e2-da29-432d-8478-e0f0b306372b button.colab-df-convert');\n",
              "      buttonEl.style.display =\n",
              "        google.colab.kernel.accessAllowed ? 'block' : 'none';\n",
              "\n",
              "      async function convertToInteractive(key) {\n",
              "        const element = document.querySelector('#df-3e7623e2-da29-432d-8478-e0f0b306372b');\n",
              "        const dataTable =\n",
              "          await google.colab.kernel.invokeFunction('convertToInteractive',\n",
              "                                                    [key], {});\n",
              "        if (!dataTable) return;\n",
              "\n",
              "        const docLinkHtml = 'Like what you see? Visit the ' +\n",
              "          '<a target=\"_blank\" href=https://colab.research.google.com/notebooks/data_table.ipynb>data table notebook</a>'\n",
              "          + ' to learn more about interactive tables.';\n",
              "        element.innerHTML = '';\n",
              "        dataTable['output_type'] = 'display_data';\n",
              "        await google.colab.output.renderOutput(dataTable, element);\n",
              "        const docLink = document.createElement('div');\n",
              "        docLink.innerHTML = docLinkHtml;\n",
              "        element.appendChild(docLink);\n",
              "      }\n",
              "    </script>\n",
              "  </div>\n",
              "\n",
              "\n",
              "<div id=\"df-d492b375-1d2e-4dd5-9c56-6d39981775e0\">\n",
              "  <button class=\"colab-df-quickchart\" onclick=\"quickchart('df-d492b375-1d2e-4dd5-9c56-6d39981775e0')\"\n",
              "            title=\"Suggest charts\"\n",
              "            style=\"display:none;\">\n",
              "\n",
              "<svg xmlns=\"http://www.w3.org/2000/svg\" height=\"24px\"viewBox=\"0 0 24 24\"\n",
              "     width=\"24px\">\n",
              "    <g>\n",
              "        <path d=\"M19 3H5c-1.1 0-2 .9-2 2v14c0 1.1.9 2 2 2h14c1.1 0 2-.9 2-2V5c0-1.1-.9-2-2-2zM9 17H7v-7h2v7zm4 0h-2V7h2v10zm4 0h-2v-4h2v4z\"/>\n",
              "    </g>\n",
              "</svg>\n",
              "  </button>\n",
              "\n",
              "<style>\n",
              "  .colab-df-quickchart {\n",
              "      --bg-color: #E8F0FE;\n",
              "      --fill-color: #1967D2;\n",
              "      --hover-bg-color: #E2EBFA;\n",
              "      --hover-fill-color: #174EA6;\n",
              "      --disabled-fill-color: #AAA;\n",
              "      --disabled-bg-color: #DDD;\n",
              "  }\n",
              "\n",
              "  [theme=dark] .colab-df-quickchart {\n",
              "      --bg-color: #3B4455;\n",
              "      --fill-color: #D2E3FC;\n",
              "      --hover-bg-color: #434B5C;\n",
              "      --hover-fill-color: #FFFFFF;\n",
              "      --disabled-bg-color: #3B4455;\n",
              "      --disabled-fill-color: #666;\n",
              "  }\n",
              "\n",
              "  .colab-df-quickchart {\n",
              "    background-color: var(--bg-color);\n",
              "    border: none;\n",
              "    border-radius: 50%;\n",
              "    cursor: pointer;\n",
              "    display: none;\n",
              "    fill: var(--fill-color);\n",
              "    height: 32px;\n",
              "    padding: 0;\n",
              "    width: 32px;\n",
              "  }\n",
              "\n",
              "  .colab-df-quickchart:hover {\n",
              "    background-color: var(--hover-bg-color);\n",
              "    box-shadow: 0 1px 2px rgba(60, 64, 67, 0.3), 0 1px 3px 1px rgba(60, 64, 67, 0.15);\n",
              "    fill: var(--button-hover-fill-color);\n",
              "  }\n",
              "\n",
              "  .colab-df-quickchart-complete:disabled,\n",
              "  .colab-df-quickchart-complete:disabled:hover {\n",
              "    background-color: var(--disabled-bg-color);\n",
              "    fill: var(--disabled-fill-color);\n",
              "    box-shadow: none;\n",
              "  }\n",
              "\n",
              "  .colab-df-spinner {\n",
              "    border: 2px solid var(--fill-color);\n",
              "    border-color: transparent;\n",
              "    border-bottom-color: var(--fill-color);\n",
              "    animation:\n",
              "      spin 1s steps(1) infinite;\n",
              "  }\n",
              "\n",
              "  @keyframes spin {\n",
              "    0% {\n",
              "      border-color: transparent;\n",
              "      border-bottom-color: var(--fill-color);\n",
              "      border-left-color: var(--fill-color);\n",
              "    }\n",
              "    20% {\n",
              "      border-color: transparent;\n",
              "      border-left-color: var(--fill-color);\n",
              "      border-top-color: var(--fill-color);\n",
              "    }\n",
              "    30% {\n",
              "      border-color: transparent;\n",
              "      border-left-color: var(--fill-color);\n",
              "      border-top-color: var(--fill-color);\n",
              "      border-right-color: var(--fill-color);\n",
              "    }\n",
              "    40% {\n",
              "      border-color: transparent;\n",
              "      border-right-color: var(--fill-color);\n",
              "      border-top-color: var(--fill-color);\n",
              "    }\n",
              "    60% {\n",
              "      border-color: transparent;\n",
              "      border-right-color: var(--fill-color);\n",
              "    }\n",
              "    80% {\n",
              "      border-color: transparent;\n",
              "      border-right-color: var(--fill-color);\n",
              "      border-bottom-color: var(--fill-color);\n",
              "    }\n",
              "    90% {\n",
              "      border-color: transparent;\n",
              "      border-bottom-color: var(--fill-color);\n",
              "    }\n",
              "  }\n",
              "</style>\n",
              "\n",
              "  <script>\n",
              "    async function quickchart(key) {\n",
              "      const quickchartButtonEl =\n",
              "        document.querySelector('#' + key + ' button');\n",
              "      quickchartButtonEl.disabled = true;  // To prevent multiple clicks.\n",
              "      quickchartButtonEl.classList.add('colab-df-spinner');\n",
              "      try {\n",
              "        const charts = await google.colab.kernel.invokeFunction(\n",
              "            'suggestCharts', [key], {});\n",
              "      } catch (error) {\n",
              "        console.error('Error during call to suggestCharts:', error);\n",
              "      }\n",
              "      quickchartButtonEl.classList.remove('colab-df-spinner');\n",
              "      quickchartButtonEl.classList.add('colab-df-quickchart-complete');\n",
              "    }\n",
              "    (() => {\n",
              "      let quickchartButtonEl =\n",
              "        document.querySelector('#df-d492b375-1d2e-4dd5-9c56-6d39981775e0 button');\n",
              "      quickchartButtonEl.style.display =\n",
              "        google.colab.kernel.accessAllowed ? 'block' : 'none';\n",
              "    })();\n",
              "  </script>\n",
              "</div>\n",
              "\n",
              "    </div>\n",
              "  </div>\n"
            ],
            "application/vnd.google.colaboratory.intrinsic+json": {
              "type": "dataframe",
              "variable_name": "enriched_df"
            }
          },
          "metadata": {},
          "execution_count": 5
        }
      ]
    },
    {
      "cell_type": "markdown",
      "source": [
        "# New Section"
      ],
      "metadata": {
        "id": "p4VchslKlzN9"
      }
    },
    {
      "cell_type": "code",
      "source": [
        "enriched_df['ID_social_id'].value_counts()"
      ],
      "metadata": {
        "colab": {
          "base_uri": "https://localhost:8080/"
        },
        "id": "kVr437xQY9uN",
        "outputId": "a1e2927a-4e9f-4a56-ec9d-b71c754a8698"
      },
      "execution_count": null,
      "outputs": [
        {
          "output_type": "execute_result",
          "data": {
            "text/plain": [
              "ID_social_id\n",
              "0x90fb225dd07dead01d3322ff566cc40668fa1244    20\n",
              "0x652b2031eb06be326ab2abb44da91c1324d5ecdb    12\n",
              "0x16d5b231dc27ed5a2b0b80ec4e188314c49b1698    11\n",
              "0x449c4291fc18e8c1acf3a2902cf06082723a3303     9\n",
              "0xe9d94fdd28c32599ee1757a89c078eb375d8f52d     8\n",
              "                                              ..\n",
              "0xbb331f7c9c6508ad76853fa5926673839c149951     1\n",
              "0x5a8984f700b6d83086fbd576e513a08822329438     1\n",
              "0x6f533803064962a96f7fd7457f94309106edf934     1\n",
              "0xe611038f2ef1cda4b7c8b5bf74174b3f4b67bf46     1\n",
              "0x525c49bf83ce3a1aaf425ac1a463537db68c8bd7     1\n",
              "Name: count, Length: 5994, dtype: int64"
            ]
          },
          "metadata": {},
          "execution_count": 6
        }
      ]
    },
    {
      "cell_type": "code",
      "source": [],
      "metadata": {
        "id": "HonbnLbVZThm"
      },
      "execution_count": null,
      "outputs": []
    },
    {
      "cell_type": "markdown",
      "source": [
        "# Download BQ data for wallets of interest"
      ],
      "metadata": {
        "id": "sfBtL1IfY5Ta"
      }
    },
    {
      "cell_type": "code",
      "execution_count": null,
      "metadata": {
        "id": "rfm__YnkSesf",
        "colab": {
          "base_uri": "https://localhost:8080/"
        },
        "outputId": "057be7bf-7c95-4aec-ad99-9b1922a408c2"
      },
      "outputs": [
        {
          "output_type": "stream",
          "name": "stdout",
          "text": [
            "Error retrieving dataset details: 403 GET https://bigquery.googleapis.com/bigquery/v2/projects/innerworks-qa/datasets/public_preview___blockchain_analytics_cronos_mainnet?prettyPrint=false: Access Denied: Dataset innerworks-qa:public_preview___blockchain_analytics_cronos_mainnet: Permission bigquery.datasets.get denied on dataset innerworks-qa:public_preview___blockchain_analytics_cronos_mainnet (or it may not exist).\n"
          ]
        }
      ],
      "source": [
        "from google.cloud import bigquery\n",
        "from google.cloud import bigquery_storage_v1\n",
        "# Specify the project ID, dataset ID, and table ID\n",
        "project_id = \"innerworks-qa\"\n",
        "dataset_id = \"public_preview___blockchain_analytics_cronos_mainnet\"\n",
        "table_id = \"transactions\"\n",
        "full_table_id = f\"{project_id}.{dataset_id}.{table_id}\"\n",
        "\n",
        "# Initialize the BigQuery client\n",
        "#client = bigquery.Client()\n",
        "client = bigquery.Client(project=project_id)\n",
        "\n",
        "bqstorageclient = bigquery_storage_v1.BigQueryReadClient()\n",
        "\n",
        "\n",
        "\n",
        "# Get the dataset information\n",
        "try:\n",
        "    # Make an API request.\n",
        "    dataset = client.get_dataset(f\"{project_id}.{dataset_id}\")\n",
        "    dataset_location = dataset.location\n",
        "    print(f\"Dataset {project_id}.{dataset_id} is in the {dataset_location} region.\")\n",
        "except Exception as e:\n",
        "    print(f\"Error retrieving dataset details: {e}\")\n",
        "    dataset_location = \"US\"  # Defaulting to US if not found"
      ]
    },
    {
      "cell_type": "code",
      "source": [
        "# Import necessary libraries\n",
        "from tqdm import tqdm\n",
        "import pandas as pd\n",
        "\n",
        "# Get all unique cronos addresses\n",
        "cronos_addresses = enriched_df['ID_social_id'].unique().tolist()\n",
        "\n",
        "# Convert the list to a comma-separated string of quoted addresses\n",
        "cronos_addresses_str = ','.join(\n",
        "    [f\"'{address}'\" for address in cronos_addresses])\n",
        "\n",
        "# Define the query\n",
        "query_string = f\"\"\"\n",
        "SELECT *\n",
        "FROM `{full_table_id}`\n",
        "WHERE from_address IN ({cronos_addresses_str}) OR to_address IN ({cronos_addresses_str})\n",
        "LIMIT 10000000\n",
        "\"\"\"\n",
        "\n",
        "# Initialize variables\n",
        "error_count = 0\n",
        "\n",
        "# Run the query and convert the results to a DataFrame\n",
        "try:\n",
        "    # Set the correct location\n",
        "    query_job = client.query(query_string, location=dataset_location)\n",
        "    wallet_df = query_job.result().to_dataframe(bqstorage_client=bqstorageclient)\n",
        "except Exception as e:\n",
        "    error_count += 1\n",
        "    print(f\"Error (count {error_count}) querying the dataset: {e}\")\n",
        "\n",
        "wallet_df"
      ],
      "metadata": {
        "id": "CgE6vjFgSgxh",
        "colab": {
          "base_uri": "https://localhost:8080/",
          "height": 387
        },
        "outputId": "4797b44e-0b4a-4683-809b-d15a1bbaf2e2"
      },
      "execution_count": null,
      "outputs": [
        {
          "output_type": "stream",
          "name": "stdout",
          "text": [
            "Error (count 1) querying the dataset: 403 POST https://bigquery.googleapis.com/bigquery/v2/projects/innerworks-qa/jobs?prettyPrint=false: Access Denied: Project innerworks-qa: User does not have bigquery.jobs.create permission in project innerworks-qa.\n",
            "\n",
            "Location: US\n",
            "Job ID: f3a0bb52-3ea5-4ade-a824-2e7b8b967456\n",
            "\n"
          ]
        },
        {
          "output_type": "error",
          "ename": "NameError",
          "evalue": "name 'wallet_df' is not defined",
          "traceback": [
            "\u001b[0;31m---------------------------------------------------------------------------\u001b[0m",
            "\u001b[0;31mNameError\u001b[0m                                 Traceback (most recent call last)",
            "\u001b[0;32m<ipython-input-6-2bc372cc7957>\u001b[0m in \u001b[0;36m<cell line: 32>\u001b[0;34m()\u001b[0m\n\u001b[1;32m     30\u001b[0m     \u001b[0mprint\u001b[0m\u001b[0;34m(\u001b[0m\u001b[0;34mf\"Error (count {error_count}) querying the dataset: {e}\"\u001b[0m\u001b[0;34m)\u001b[0m\u001b[0;34m\u001b[0m\u001b[0;34m\u001b[0m\u001b[0m\n\u001b[1;32m     31\u001b[0m \u001b[0;34m\u001b[0m\u001b[0m\n\u001b[0;32m---> 32\u001b[0;31m \u001b[0mwallet_df\u001b[0m\u001b[0;34m\u001b[0m\u001b[0;34m\u001b[0m\u001b[0m\n\u001b[0m",
            "\u001b[0;31mNameError\u001b[0m: name 'wallet_df' is not defined"
          ]
        }
      ]
    },
    {
      "cell_type": "code",
      "source": [],
      "metadata": {
        "id": "02Xbpx0zvRXM"
      },
      "execution_count": null,
      "outputs": []
    },
    {
      "cell_type": "markdown",
      "source": [
        "# Save wallet Info"
      ],
      "metadata": {
        "id": "RCpV0BVTvxKO"
      }
    },
    {
      "cell_type": "code",
      "source": [
        "from google.colab import drive\n",
        "drive.mount('/content/drive')"
      ],
      "metadata": {
        "colab": {
          "base_uri": "https://localhost:8080/"
        },
        "id": "Kn9_EFV9vSVl",
        "outputId": "d6560aa8-6f4a-4f2a-aeb9-4dffb9777676"
      },
      "execution_count": null,
      "outputs": [
        {
          "output_type": "stream",
          "name": "stdout",
          "text": [
            "Mounted at /content/drive\n"
          ]
        }
      ]
    },
    {
      "cell_type": "code",
      "source": [
        "wallet_df.to_csv('/content/drive/MyDrive/HBAI/projects/Innerworks: botnet detection/v2Report/endOfCampaignWalletData.csv')"
      ],
      "metadata": {
        "id": "-1q2RzMfvNXd"
      },
      "execution_count": null,
      "outputs": []
    },
    {
      "cell_type": "markdown",
      "source": [
        "# Load wallet Info"
      ],
      "metadata": {
        "id": "1vfPG_8Lv0Ld"
      }
    },
    {
      "cell_type": "code",
      "source": [
        "# Install gdown if not already installed\n",
        "!pip install gdown\n",
        "\n",
        "# Import necessary libraries\n",
        "import gdown\n",
        "import pandas as pd\n",
        "\n",
        "# File ID from the shared link\n",
        "file_id = \"1V3aT7QqwfGVAeHPWBPk9w6bkAS_FK22d\"\n",
        "\n",
        "# URL for gdown to download the file\n",
        "url = f\"https://drive.google.com/uc?id={file_id}\"\n",
        "\n",
        "# Output file path\n",
        "output = \"endOfCampaignWalletData.csv\"\n",
        "\n",
        "# Download the file\n",
        "gdown.download(url, output, quiet=False)\n",
        "\n",
        "# Load the CSV file into a pandas DataFrame\n",
        "wallet_df = pd.read_csv(output)\n",
        "\n",
        "# Display the DataFrame\n",
        "wallet_df.head()"
      ],
      "metadata": {
        "colab": {
          "base_uri": "https://localhost:8080/",
          "height": 703
        },
        "id": "n_LuVoWDvufU",
        "outputId": "fb57974c-a7ca-45b6-83b6-8802bd0d781a"
      },
      "execution_count": null,
      "outputs": [
        {
          "output_type": "stream",
          "name": "stdout",
          "text": [
            "Requirement already satisfied: gdown in /usr/local/lib/python3.10/dist-packages (5.1.0)\n",
            "Requirement already satisfied: beautifulsoup4 in /usr/local/lib/python3.10/dist-packages (from gdown) (4.12.3)\n",
            "Requirement already satisfied: filelock in /usr/local/lib/python3.10/dist-packages (from gdown) (3.14.0)\n",
            "Requirement already satisfied: requests[socks] in /usr/local/lib/python3.10/dist-packages (from gdown) (2.31.0)\n",
            "Requirement already satisfied: tqdm in /usr/local/lib/python3.10/dist-packages (from gdown) (4.66.4)\n",
            "Requirement already satisfied: soupsieve>1.2 in /usr/local/lib/python3.10/dist-packages (from beautifulsoup4->gdown) (2.5)\n",
            "Requirement already satisfied: charset-normalizer<4,>=2 in /usr/local/lib/python3.10/dist-packages (from requests[socks]->gdown) (3.3.2)\n",
            "Requirement already satisfied: idna<4,>=2.5 in /usr/local/lib/python3.10/dist-packages (from requests[socks]->gdown) (3.7)\n",
            "Requirement already satisfied: urllib3<3,>=1.21.1 in /usr/local/lib/python3.10/dist-packages (from requests[socks]->gdown) (2.0.7)\n",
            "Requirement already satisfied: certifi>=2017.4.17 in /usr/local/lib/python3.10/dist-packages (from requests[socks]->gdown) (2024.6.2)\n",
            "Requirement already satisfied: PySocks!=1.5.7,>=1.5.6 in /usr/local/lib/python3.10/dist-packages (from requests[socks]->gdown) (1.7.1)\n"
          ]
        },
        {
          "output_type": "stream",
          "name": "stderr",
          "text": [
            "Downloading...\n",
            "From (original): https://drive.google.com/uc?id=1V3aT7QqwfGVAeHPWBPk9w6bkAS_FK22d\n",
            "From (redirected): https://drive.google.com/uc?id=1V3aT7QqwfGVAeHPWBPk9w6bkAS_FK22d&confirm=t&uuid=cb746090-47b5-46ca-a0c4-cf794c2358f5\n",
            "To: /content/endOfCampaignWalletData.csv\n",
            "100%|██████████| 2.33G/2.33G [00:29<00:00, 78.6MB/s]\n"
          ]
        },
        {
          "output_type": "execute_result",
          "data": {
            "text/plain": [
              "   Unnamed: 0                                         block_hash  \\\n",
              "0           0  0xcfb7781c4f09639d33ef9ddbc8cffcb6684329bb6caa...   \n",
              "1           1  0x0692283a8e0dc343ec0f2758c99a9195800b8132e053...   \n",
              "2           2  0x59b0a002edc60398ab6b20b1cf8708f5452cb8450bba...   \n",
              "3           3  0x8191f729a94a5d0b477585b022e4e165e988c0ba7af7...   \n",
              "4           4  0xff25686090ee04a7c02264e190228788d766892bf697...   \n",
              "\n",
              "             block_timestamp  \\\n",
              "0  2024-04-11 08:14:36+00:00   \n",
              "1  2024-04-30 13:00:55+00:00   \n",
              "2  2024-04-30 04:50:00+00:00   \n",
              "3  2024-02-14 08:57:58+00:00   \n",
              "4  2024-06-04 14:32:17+00:00   \n",
              "\n",
              "                                    transaction_hash  transaction_index  \\\n",
              "0  0xd3bd569eebf38c0c4b53002c5801e40d65089061091a...                  0   \n",
              "1  0x2771d36dbcb97bd2638badc75762d6c36115bf5a0489...                  8   \n",
              "2  0x8a489630160e29798f7acbe3593880bb17c9fff5a145...                 18   \n",
              "3  0x584dc50bce0571f6a4e92729ab423401ccb20617ee9a...                  4   \n",
              "4  0x067b7e50f6ffb11b1a4629b6e8a3ed178d1fda92eaf0...                  6   \n",
              "\n",
              "     nonce                                from_address  \\\n",
              "0   1882.0  0x306f43639ee3172e16798731029055dd2691499b   \n",
              "1   5786.0  0x26de9cdca752ddb91ae78c7ef895902d7747fd71   \n",
              "2      9.0  0x95a432c3af672b714d7d5fe90b196297cb53549b   \n",
              "3   2838.0  0x62cd39160bdefbbb149166bc667a98a4f9b141da   \n",
              "4  11717.0  0x10337523fe988d6ce28b0bd65c4cc6dd34e39c1d   \n",
              "\n",
              "                                   to_address  \\\n",
              "0  0x14fb0e7640e7fb7765cfa87cec973ff5465d1c66   \n",
              "1  0xce3f4e59834b5b52b301e075c5b3d427b6884b3d   \n",
              "2  0x55b5b0562fb3da3b4108145cd30e6d3b6e16c69c   \n",
              "3  0xd988909fc611a9d8eb4141bf37b98f815a8820ce   \n",
              "4  0x11703dc41b6417e9e4b7f560710ef2ef5e9eb1ca   \n",
              "\n",
              "                                               value  \\\n",
              "0  {'string_value': '0', 'bignumeric_value': Deci...   \n",
              "1  {'string_value': '0', 'bignumeric_value': Deci...   \n",
              "2  {'string_value': '1000000000000000000', 'bignu...   \n",
              "3  {'string_value': '0', 'bignumeric_value': Deci...   \n",
              "4  {'string_value': '0', 'bignumeric_value': Deci...   \n",
              "\n",
              "                                               input     gas  \\\n",
              "0  0x095ea7b30000000000000000000000004e0186e2cd19...   51657   \n",
              "1  0xa22cb4650000000000000000000000007a3cdb2364f9...   34131   \n",
              "2  0x00d5a9e8000000000000000000000000000000000000...  247501   \n",
              "3  0x646174613a2c7b2270223a226372632d3230222c226f...   21992   \n",
              "4  0x9b6522d5000000000000000000000000bf4e430cd0ce...  301140   \n",
              "\n",
              "                                           gas_price  max_fee_per_gas  \\\n",
              "0  {'string_value': '5162740480769', 'bignumeric_...     5.162740e+12   \n",
              "1  {'string_value': '5036652423771', 'bignumeric_...     6.786652e+12   \n",
              "2  {'string_value': '5045590000000', 'bignumeric_...     6.795590e+12   \n",
              "3  {'string_value': '10629435893970', 'bignumeric...     1.062944e+13   \n",
              "4  {'string_value': '5045633650000', 'bignumeric_...     6.795634e+12   \n",
              "\n",
              "   max_priority_fee_per_gas  transaction_type access_list  \\\n",
              "0              1.627405e+11                 2          []   \n",
              "1              3.665242e+10                 2          []   \n",
              "2              4.559000e+10                 2          []   \n",
              "3              6.294359e+11                 2          []   \n",
              "4              4.563365e+10                 2          []   \n",
              "\n",
              "                                                   r  \\\n",
              "0  {'string_value': '4473517533020926627782634415...   \n",
              "1  {'string_value': '8306547203907244710235670689...   \n",
              "2  {'string_value': '3141878500829044557533286526...   \n",
              "3  {'string_value': '8239761473912596102512572072...   \n",
              "4  {'string_value': '1113539345344722326541772922...   \n",
              "\n",
              "                                                   s  \\\n",
              "0  {'string_value': '4790959909023628722489207200...   \n",
              "1  {'string_value': '1232090997641214761327500931...   \n",
              "2  {'string_value': '2303971006535084978768371022...   \n",
              "3  {'string_value': '5440176852016776338204304754...   \n",
              "4  {'string_value': '5199957291835320997655667863...   \n",
              "\n",
              "                                                 v  \n",
              "0  {'string_value': '1', 'bignumeric_value': None}  \n",
              "1  {'string_value': '1', 'bignumeric_value': None}  \n",
              "2  {'string_value': '1', 'bignumeric_value': None}  \n",
              "3  {'string_value': '1', 'bignumeric_value': None}  \n",
              "4  {'string_value': '1', 'bignumeric_value': None}  "
            ],
            "text/html": [
              "\n",
              "  <div id=\"df-bcc7aaa4-955a-43e5-8d92-348d1f117c6d\" class=\"colab-df-container\">\n",
              "    <div>\n",
              "<style scoped>\n",
              "    .dataframe tbody tr th:only-of-type {\n",
              "        vertical-align: middle;\n",
              "    }\n",
              "\n",
              "    .dataframe tbody tr th {\n",
              "        vertical-align: top;\n",
              "    }\n",
              "\n",
              "    .dataframe thead th {\n",
              "        text-align: right;\n",
              "    }\n",
              "</style>\n",
              "<table border=\"1\" class=\"dataframe\">\n",
              "  <thead>\n",
              "    <tr style=\"text-align: right;\">\n",
              "      <th></th>\n",
              "      <th>Unnamed: 0</th>\n",
              "      <th>block_hash</th>\n",
              "      <th>block_timestamp</th>\n",
              "      <th>transaction_hash</th>\n",
              "      <th>transaction_index</th>\n",
              "      <th>nonce</th>\n",
              "      <th>from_address</th>\n",
              "      <th>to_address</th>\n",
              "      <th>value</th>\n",
              "      <th>input</th>\n",
              "      <th>gas</th>\n",
              "      <th>gas_price</th>\n",
              "      <th>max_fee_per_gas</th>\n",
              "      <th>max_priority_fee_per_gas</th>\n",
              "      <th>transaction_type</th>\n",
              "      <th>access_list</th>\n",
              "      <th>r</th>\n",
              "      <th>s</th>\n",
              "      <th>v</th>\n",
              "    </tr>\n",
              "  </thead>\n",
              "  <tbody>\n",
              "    <tr>\n",
              "      <th>0</th>\n",
              "      <td>0</td>\n",
              "      <td>0xcfb7781c4f09639d33ef9ddbc8cffcb6684329bb6caa...</td>\n",
              "      <td>2024-04-11 08:14:36+00:00</td>\n",
              "      <td>0xd3bd569eebf38c0c4b53002c5801e40d65089061091a...</td>\n",
              "      <td>0</td>\n",
              "      <td>1882.0</td>\n",
              "      <td>0x306f43639ee3172e16798731029055dd2691499b</td>\n",
              "      <td>0x14fb0e7640e7fb7765cfa87cec973ff5465d1c66</td>\n",
              "      <td>{'string_value': '0', 'bignumeric_value': Deci...</td>\n",
              "      <td>0x095ea7b30000000000000000000000004e0186e2cd19...</td>\n",
              "      <td>51657</td>\n",
              "      <td>{'string_value': '5162740480769', 'bignumeric_...</td>\n",
              "      <td>5.162740e+12</td>\n",
              "      <td>1.627405e+11</td>\n",
              "      <td>2</td>\n",
              "      <td>[]</td>\n",
              "      <td>{'string_value': '4473517533020926627782634415...</td>\n",
              "      <td>{'string_value': '4790959909023628722489207200...</td>\n",
              "      <td>{'string_value': '1', 'bignumeric_value': None}</td>\n",
              "    </tr>\n",
              "    <tr>\n",
              "      <th>1</th>\n",
              "      <td>1</td>\n",
              "      <td>0x0692283a8e0dc343ec0f2758c99a9195800b8132e053...</td>\n",
              "      <td>2024-04-30 13:00:55+00:00</td>\n",
              "      <td>0x2771d36dbcb97bd2638badc75762d6c36115bf5a0489...</td>\n",
              "      <td>8</td>\n",
              "      <td>5786.0</td>\n",
              "      <td>0x26de9cdca752ddb91ae78c7ef895902d7747fd71</td>\n",
              "      <td>0xce3f4e59834b5b52b301e075c5b3d427b6884b3d</td>\n",
              "      <td>{'string_value': '0', 'bignumeric_value': Deci...</td>\n",
              "      <td>0xa22cb4650000000000000000000000007a3cdb2364f9...</td>\n",
              "      <td>34131</td>\n",
              "      <td>{'string_value': '5036652423771', 'bignumeric_...</td>\n",
              "      <td>6.786652e+12</td>\n",
              "      <td>3.665242e+10</td>\n",
              "      <td>2</td>\n",
              "      <td>[]</td>\n",
              "      <td>{'string_value': '8306547203907244710235670689...</td>\n",
              "      <td>{'string_value': '1232090997641214761327500931...</td>\n",
              "      <td>{'string_value': '1', 'bignumeric_value': None}</td>\n",
              "    </tr>\n",
              "    <tr>\n",
              "      <th>2</th>\n",
              "      <td>2</td>\n",
              "      <td>0x59b0a002edc60398ab6b20b1cf8708f5452cb8450bba...</td>\n",
              "      <td>2024-04-30 04:50:00+00:00</td>\n",
              "      <td>0x8a489630160e29798f7acbe3593880bb17c9fff5a145...</td>\n",
              "      <td>18</td>\n",
              "      <td>9.0</td>\n",
              "      <td>0x95a432c3af672b714d7d5fe90b196297cb53549b</td>\n",
              "      <td>0x55b5b0562fb3da3b4108145cd30e6d3b6e16c69c</td>\n",
              "      <td>{'string_value': '1000000000000000000', 'bignu...</td>\n",
              "      <td>0x00d5a9e8000000000000000000000000000000000000...</td>\n",
              "      <td>247501</td>\n",
              "      <td>{'string_value': '5045590000000', 'bignumeric_...</td>\n",
              "      <td>6.795590e+12</td>\n",
              "      <td>4.559000e+10</td>\n",
              "      <td>2</td>\n",
              "      <td>[]</td>\n",
              "      <td>{'string_value': '3141878500829044557533286526...</td>\n",
              "      <td>{'string_value': '2303971006535084978768371022...</td>\n",
              "      <td>{'string_value': '1', 'bignumeric_value': None}</td>\n",
              "    </tr>\n",
              "    <tr>\n",
              "      <th>3</th>\n",
              "      <td>3</td>\n",
              "      <td>0x8191f729a94a5d0b477585b022e4e165e988c0ba7af7...</td>\n",
              "      <td>2024-02-14 08:57:58+00:00</td>\n",
              "      <td>0x584dc50bce0571f6a4e92729ab423401ccb20617ee9a...</td>\n",
              "      <td>4</td>\n",
              "      <td>2838.0</td>\n",
              "      <td>0x62cd39160bdefbbb149166bc667a98a4f9b141da</td>\n",
              "      <td>0xd988909fc611a9d8eb4141bf37b98f815a8820ce</td>\n",
              "      <td>{'string_value': '0', 'bignumeric_value': Deci...</td>\n",
              "      <td>0x646174613a2c7b2270223a226372632d3230222c226f...</td>\n",
              "      <td>21992</td>\n",
              "      <td>{'string_value': '10629435893970', 'bignumeric...</td>\n",
              "      <td>1.062944e+13</td>\n",
              "      <td>6.294359e+11</td>\n",
              "      <td>2</td>\n",
              "      <td>[]</td>\n",
              "      <td>{'string_value': '8239761473912596102512572072...</td>\n",
              "      <td>{'string_value': '5440176852016776338204304754...</td>\n",
              "      <td>{'string_value': '1', 'bignumeric_value': None}</td>\n",
              "    </tr>\n",
              "    <tr>\n",
              "      <th>4</th>\n",
              "      <td>4</td>\n",
              "      <td>0xff25686090ee04a7c02264e190228788d766892bf697...</td>\n",
              "      <td>2024-06-04 14:32:17+00:00</td>\n",
              "      <td>0x067b7e50f6ffb11b1a4629b6e8a3ed178d1fda92eaf0...</td>\n",
              "      <td>6</td>\n",
              "      <td>11717.0</td>\n",
              "      <td>0x10337523fe988d6ce28b0bd65c4cc6dd34e39c1d</td>\n",
              "      <td>0x11703dc41b6417e9e4b7f560710ef2ef5e9eb1ca</td>\n",
              "      <td>{'string_value': '0', 'bignumeric_value': Deci...</td>\n",
              "      <td>0x9b6522d5000000000000000000000000bf4e430cd0ce...</td>\n",
              "      <td>301140</td>\n",
              "      <td>{'string_value': '5045633650000', 'bignumeric_...</td>\n",
              "      <td>6.795634e+12</td>\n",
              "      <td>4.563365e+10</td>\n",
              "      <td>2</td>\n",
              "      <td>[]</td>\n",
              "      <td>{'string_value': '1113539345344722326541772922...</td>\n",
              "      <td>{'string_value': '5199957291835320997655667863...</td>\n",
              "      <td>{'string_value': '1', 'bignumeric_value': None}</td>\n",
              "    </tr>\n",
              "  </tbody>\n",
              "</table>\n",
              "</div>\n",
              "    <div class=\"colab-df-buttons\">\n",
              "\n",
              "  <div class=\"colab-df-container\">\n",
              "    <button class=\"colab-df-convert\" onclick=\"convertToInteractive('df-bcc7aaa4-955a-43e5-8d92-348d1f117c6d')\"\n",
              "            title=\"Convert this dataframe to an interactive table.\"\n",
              "            style=\"display:none;\">\n",
              "\n",
              "  <svg xmlns=\"http://www.w3.org/2000/svg\" height=\"24px\" viewBox=\"0 -960 960 960\">\n",
              "    <path d=\"M120-120v-720h720v720H120Zm60-500h600v-160H180v160Zm220 220h160v-160H400v160Zm0 220h160v-160H400v160ZM180-400h160v-160H180v160Zm440 0h160v-160H620v160ZM180-180h160v-160H180v160Zm440 0h160v-160H620v160Z\"/>\n",
              "  </svg>\n",
              "    </button>\n",
              "\n",
              "  <style>\n",
              "    .colab-df-container {\n",
              "      display:flex;\n",
              "      gap: 12px;\n",
              "    }\n",
              "\n",
              "    .colab-df-convert {\n",
              "      background-color: #E8F0FE;\n",
              "      border: none;\n",
              "      border-radius: 50%;\n",
              "      cursor: pointer;\n",
              "      display: none;\n",
              "      fill: #1967D2;\n",
              "      height: 32px;\n",
              "      padding: 0 0 0 0;\n",
              "      width: 32px;\n",
              "    }\n",
              "\n",
              "    .colab-df-convert:hover {\n",
              "      background-color: #E2EBFA;\n",
              "      box-shadow: 0px 1px 2px rgba(60, 64, 67, 0.3), 0px 1px 3px 1px rgba(60, 64, 67, 0.15);\n",
              "      fill: #174EA6;\n",
              "    }\n",
              "\n",
              "    .colab-df-buttons div {\n",
              "      margin-bottom: 4px;\n",
              "    }\n",
              "\n",
              "    [theme=dark] .colab-df-convert {\n",
              "      background-color: #3B4455;\n",
              "      fill: #D2E3FC;\n",
              "    }\n",
              "\n",
              "    [theme=dark] .colab-df-convert:hover {\n",
              "      background-color: #434B5C;\n",
              "      box-shadow: 0px 1px 3px 1px rgba(0, 0, 0, 0.15);\n",
              "      filter: drop-shadow(0px 1px 2px rgba(0, 0, 0, 0.3));\n",
              "      fill: #FFFFFF;\n",
              "    }\n",
              "  </style>\n",
              "\n",
              "    <script>\n",
              "      const buttonEl =\n",
              "        document.querySelector('#df-bcc7aaa4-955a-43e5-8d92-348d1f117c6d button.colab-df-convert');\n",
              "      buttonEl.style.display =\n",
              "        google.colab.kernel.accessAllowed ? 'block' : 'none';\n",
              "\n",
              "      async function convertToInteractive(key) {\n",
              "        const element = document.querySelector('#df-bcc7aaa4-955a-43e5-8d92-348d1f117c6d');\n",
              "        const dataTable =\n",
              "          await google.colab.kernel.invokeFunction('convertToInteractive',\n",
              "                                                    [key], {});\n",
              "        if (!dataTable) return;\n",
              "\n",
              "        const docLinkHtml = 'Like what you see? Visit the ' +\n",
              "          '<a target=\"_blank\" href=https://colab.research.google.com/notebooks/data_table.ipynb>data table notebook</a>'\n",
              "          + ' to learn more about interactive tables.';\n",
              "        element.innerHTML = '';\n",
              "        dataTable['output_type'] = 'display_data';\n",
              "        await google.colab.output.renderOutput(dataTable, element);\n",
              "        const docLink = document.createElement('div');\n",
              "        docLink.innerHTML = docLinkHtml;\n",
              "        element.appendChild(docLink);\n",
              "      }\n",
              "    </script>\n",
              "  </div>\n",
              "\n",
              "\n",
              "<div id=\"df-0b634e22-1575-40c8-8f9a-6b112d2541b0\">\n",
              "  <button class=\"colab-df-quickchart\" onclick=\"quickchart('df-0b634e22-1575-40c8-8f9a-6b112d2541b0')\"\n",
              "            title=\"Suggest charts\"\n",
              "            style=\"display:none;\">\n",
              "\n",
              "<svg xmlns=\"http://www.w3.org/2000/svg\" height=\"24px\"viewBox=\"0 0 24 24\"\n",
              "     width=\"24px\">\n",
              "    <g>\n",
              "        <path d=\"M19 3H5c-1.1 0-2 .9-2 2v14c0 1.1.9 2 2 2h14c1.1 0 2-.9 2-2V5c0-1.1-.9-2-2-2zM9 17H7v-7h2v7zm4 0h-2V7h2v10zm4 0h-2v-4h2v4z\"/>\n",
              "    </g>\n",
              "</svg>\n",
              "  </button>\n",
              "\n",
              "<style>\n",
              "  .colab-df-quickchart {\n",
              "      --bg-color: #E8F0FE;\n",
              "      --fill-color: #1967D2;\n",
              "      --hover-bg-color: #E2EBFA;\n",
              "      --hover-fill-color: #174EA6;\n",
              "      --disabled-fill-color: #AAA;\n",
              "      --disabled-bg-color: #DDD;\n",
              "  }\n",
              "\n",
              "  [theme=dark] .colab-df-quickchart {\n",
              "      --bg-color: #3B4455;\n",
              "      --fill-color: #D2E3FC;\n",
              "      --hover-bg-color: #434B5C;\n",
              "      --hover-fill-color: #FFFFFF;\n",
              "      --disabled-bg-color: #3B4455;\n",
              "      --disabled-fill-color: #666;\n",
              "  }\n",
              "\n",
              "  .colab-df-quickchart {\n",
              "    background-color: var(--bg-color);\n",
              "    border: none;\n",
              "    border-radius: 50%;\n",
              "    cursor: pointer;\n",
              "    display: none;\n",
              "    fill: var(--fill-color);\n",
              "    height: 32px;\n",
              "    padding: 0;\n",
              "    width: 32px;\n",
              "  }\n",
              "\n",
              "  .colab-df-quickchart:hover {\n",
              "    background-color: var(--hover-bg-color);\n",
              "    box-shadow: 0 1px 2px rgba(60, 64, 67, 0.3), 0 1px 3px 1px rgba(60, 64, 67, 0.15);\n",
              "    fill: var(--button-hover-fill-color);\n",
              "  }\n",
              "\n",
              "  .colab-df-quickchart-complete:disabled,\n",
              "  .colab-df-quickchart-complete:disabled:hover {\n",
              "    background-color: var(--disabled-bg-color);\n",
              "    fill: var(--disabled-fill-color);\n",
              "    box-shadow: none;\n",
              "  }\n",
              "\n",
              "  .colab-df-spinner {\n",
              "    border: 2px solid var(--fill-color);\n",
              "    border-color: transparent;\n",
              "    border-bottom-color: var(--fill-color);\n",
              "    animation:\n",
              "      spin 1s steps(1) infinite;\n",
              "  }\n",
              "\n",
              "  @keyframes spin {\n",
              "    0% {\n",
              "      border-color: transparent;\n",
              "      border-bottom-color: var(--fill-color);\n",
              "      border-left-color: var(--fill-color);\n",
              "    }\n",
              "    20% {\n",
              "      border-color: transparent;\n",
              "      border-left-color: var(--fill-color);\n",
              "      border-top-color: var(--fill-color);\n",
              "    }\n",
              "    30% {\n",
              "      border-color: transparent;\n",
              "      border-left-color: var(--fill-color);\n",
              "      border-top-color: var(--fill-color);\n",
              "      border-right-color: var(--fill-color);\n",
              "    }\n",
              "    40% {\n",
              "      border-color: transparent;\n",
              "      border-right-color: var(--fill-color);\n",
              "      border-top-color: var(--fill-color);\n",
              "    }\n",
              "    60% {\n",
              "      border-color: transparent;\n",
              "      border-right-color: var(--fill-color);\n",
              "    }\n",
              "    80% {\n",
              "      border-color: transparent;\n",
              "      border-right-color: var(--fill-color);\n",
              "      border-bottom-color: var(--fill-color);\n",
              "    }\n",
              "    90% {\n",
              "      border-color: transparent;\n",
              "      border-bottom-color: var(--fill-color);\n",
              "    }\n",
              "  }\n",
              "</style>\n",
              "\n",
              "  <script>\n",
              "    async function quickchart(key) {\n",
              "      const quickchartButtonEl =\n",
              "        document.querySelector('#' + key + ' button');\n",
              "      quickchartButtonEl.disabled = true;  // To prevent multiple clicks.\n",
              "      quickchartButtonEl.classList.add('colab-df-spinner');\n",
              "      try {\n",
              "        const charts = await google.colab.kernel.invokeFunction(\n",
              "            'suggestCharts', [key], {});\n",
              "      } catch (error) {\n",
              "        console.error('Error during call to suggestCharts:', error);\n",
              "      }\n",
              "      quickchartButtonEl.classList.remove('colab-df-spinner');\n",
              "      quickchartButtonEl.classList.add('colab-df-quickchart-complete');\n",
              "    }\n",
              "    (() => {\n",
              "      let quickchartButtonEl =\n",
              "        document.querySelector('#df-0b634e22-1575-40c8-8f9a-6b112d2541b0 button');\n",
              "      quickchartButtonEl.style.display =\n",
              "        google.colab.kernel.accessAllowed ? 'block' : 'none';\n",
              "    })();\n",
              "  </script>\n",
              "</div>\n",
              "\n",
              "    </div>\n",
              "  </div>\n"
            ],
            "application/vnd.google.colaboratory.intrinsic+json": {
              "type": "dataframe",
              "variable_name": "wallet_df"
            }
          },
          "metadata": {},
          "execution_count": 1
        }
      ]
    },
    {
      "cell_type": "code",
      "source": [
        "wallet_df.block_timestamp.sort_values()"
      ],
      "metadata": {
        "colab": {
          "base_uri": "https://localhost:8080/"
        },
        "id": "Yx0x3cE5S2T3",
        "outputId": "6075c24f-8a11-40f6-8476-8e19b951fb60"
      },
      "execution_count": null,
      "outputs": [
        {
          "output_type": "execute_result",
          "data": {
            "text/plain": [
              "379950    2021-11-08 07:35:29+00:00\n",
              "23607     2021-11-08 07:46:22+00:00\n",
              "269855    2021-11-08 07:47:34+00:00\n",
              "235398    2021-11-08 08:12:31+00:00\n",
              "316036    2021-11-08 08:15:02+00:00\n",
              "                    ...            \n",
              "430884    2024-06-07 12:45:45+00:00\n",
              "415239    2024-06-07 12:45:56+00:00\n",
              "8240      2024-06-07 12:46:13+00:00\n",
              "336620    2024-06-07 12:46:13+00:00\n",
              "277500    2024-06-07 12:46:24+00:00\n",
              "Name: block_timestamp, Length: 1818504, dtype: object"
            ]
          },
          "metadata": {},
          "execution_count": 3
        }
      ]
    },
    {
      "cell_type": "code",
      "source": [
        "\n",
        "# Check if these unique to_address values are in the ID_social_id column of enriched_df\n",
        "is_in_enriched_df = pd.Series(wallet_df['to_address'].unique()).isin(enriched_df['ID_social_id'].unique())\n",
        "\n",
        "# Sum the boolean values to get the count\n",
        "count = is_in_enriched_df.sum()\n",
        "\n",
        "# Print the result\n",
        "print(f\"{count}/{wallet_df['to_address'].nunique()}\")"
      ],
      "metadata": {
        "id": "sC0mRUHYceCN",
        "colab": {
          "base_uri": "https://localhost:8080/"
        },
        "outputId": "79014af5-29f0-475d-b14a-12de90d4843d"
      },
      "execution_count": null,
      "outputs": [
        {
          "output_type": "stream",
          "name": "stdout",
          "text": [
            "4668/18988\n"
          ]
        }
      ]
    },
    {
      "cell_type": "code",
      "source": [],
      "metadata": {
        "id": "Ftw23J4mdizo"
      },
      "execution_count": null,
      "outputs": []
    },
    {
      "cell_type": "code",
      "source": [
        "\n",
        "# Check if these unique to_address values are in the ID_social_id column of enriched_df\n",
        "is_in_enriched_df = pd.Series(wallet_df['from_address'].unique()).isin(enriched_df['ID_social_id'].unique())\n",
        "\n",
        "# Sum the boolean values to get the count\n",
        "count = is_in_enriched_df.sum()\n",
        "\n",
        "# Print the result\n",
        "print(f\"{count}/{wallet_df['from_address'].nunique()}\")"
      ],
      "metadata": {
        "id": "vDs1Ic96daWz",
        "colab": {
          "base_uri": "https://localhost:8080/"
        },
        "outputId": "79d5e1a5-9a39-469d-b090-8fefca6141a7"
      },
      "execution_count": null,
      "outputs": [
        {
          "output_type": "stream",
          "name": "stdout",
          "text": [
            "4715/8142\n"
          ]
        }
      ]
    },
    {
      "cell_type": "code",
      "source": [],
      "metadata": {
        "id": "-A9p1nlfdbio"
      },
      "execution_count": null,
      "outputs": []
    },
    {
      "cell_type": "code",
      "source": [],
      "metadata": {
        "id": "MhW8n3pTdL8O"
      },
      "execution_count": null,
      "outputs": []
    },
    {
      "cell_type": "code",
      "source": [],
      "metadata": {
        "id": "TGC99yspdKPR"
      },
      "execution_count": null,
      "outputs": []
    },
    {
      "cell_type": "code",
      "source": [
        "wallet_df['from_address'].nunique()"
      ],
      "metadata": {
        "id": "TdQMkMyPchoC"
      },
      "execution_count": null,
      "outputs": []
    },
    {
      "cell_type": "code",
      "source": [],
      "metadata": {
        "id": "7BEIc65gclf6"
      },
      "execution_count": null,
      "outputs": []
    },
    {
      "cell_type": "code",
      "source": [
        "df = wallet_df"
      ],
      "metadata": {
        "id": "tuuBVS-ZVm8J"
      },
      "execution_count": null,
      "outputs": []
    },
    {
      "cell_type": "code",
      "source": [],
      "metadata": {
        "id": "BIZlcSbJYUGy"
      },
      "execution_count": null,
      "outputs": []
    },
    {
      "cell_type": "code",
      "source": [],
      "metadata": {
        "id": "B1wyCy4YX3Ow"
      },
      "execution_count": null,
      "outputs": []
    },
    {
      "cell_type": "markdown",
      "source": [
        "# Bot detection"
      ],
      "metadata": {
        "id": "4bCWSh9ZXQyB"
      }
    },
    {
      "cell_type": "code",
      "source": [
        "import pandas as pd\n",
        "\n",
        "# Assuming df is the DataFrame with transaction data\n",
        "# Load your data into a DataFrame\n",
        "# Replace 'your_data.csv' with the path to your CSV file\n",
        "# df = pd.read_csv('your_data.csv')\n",
        "\n",
        "# Define functions for each rule\n",
        "def detect_high_frequency_transactions(df, threshold):\n",
        "    frequent_transactions = df.groupby('from_address').size()\n",
        "    suspicious_addresses = frequent_transactions[frequent_transactions > threshold].index\n",
        "    return suspicious_addresses\n",
        "\n",
        "def detect_small_repetitive_transactions(df, max_value):\n",
        "    df['value_bignumeric'] = df['value'].apply(lambda x: x['bignumeric_value'])\n",
        "    small_transactions = df[df['value_bignumeric'] <= max_value]\n",
        "    repetitive_transactions = small_transactions.groupby('from_address').size()\n",
        "    suspicious_addresses = repetitive_transactions[repetitive_transactions > 5].index  # More stringent\n",
        "    return suspicious_addresses\n",
        "\n",
        "def detect_multiple_wallets_same_addresses(df, min_interactions):\n",
        "    interactions = df.groupby('to_address')['from_address'].nunique()\n",
        "    suspicious_addresses = interactions[interactions >= min_interactions].index\n",
        "    return suspicious_addresses\n",
        "\n",
        "def detect_new_wallets_high_activity(df, recent_days, min_transactions):\n",
        "    df['block_timestamp'] = pd.to_datetime(df['block_timestamp'])\n",
        "    if df['block_timestamp'].dt.tz is None:\n",
        "        df['block_timestamp'] = df['block_timestamp'].dt.tz_localize('UTC')\n",
        "    recent_wallets = df[df['block_timestamp'] >= (pd.Timestamp.now(tz='UTC') - pd.Timedelta(days=recent_days))]\n",
        "    high_activity_wallets = recent_wallets.groupby('from_address').size()\n",
        "    suspicious_addresses = high_activity_wallets[high_activity_wallets >= min_transactions].index\n",
        "    return suspicious_addresses\n",
        "\n",
        "def detect_repeated_gas_usage(df, min_repeats):\n",
        "    repeated_gas = df.groupby('from_address')['gas'].apply(lambda x: x.value_counts().max())\n",
        "    suspicious_addresses = repeated_gas[repeated_gas >= min_repeats].index\n",
        "    return suspicious_addresses\n",
        "\n",
        "# Combine rules to detect suspicious wallets\n",
        "def detect_suspicious_wallets(df):\n",
        "    # More stringent parameters for higher precision\n",
        "    threshold = 100  # Higher threshold for high frequency transactions\n",
        "    max_value = 1e17  # Lower maximum value for small transactions\n",
        "    recent_days = 15  # Fewer recent days for new wallets\n",
        "    min_interactions = 3  # Minimum unique interactions for multiple wallets\n",
        "    min_transactions = 10  # Minimum transactions for high activity new wallets\n",
        "    min_repeats = 3  # Minimum repeats for gas usage\n",
        "\n",
        "    high_freq_suspicious = detect_high_frequency_transactions(df, threshold)\n",
        "    small_repetitive_suspicious = detect_small_repetitive_transactions(df, max_value)\n",
        "    multiple_wallets_suspicious = detect_multiple_wallets_same_addresses(df, min_interactions)\n",
        "    new_wallets_suspicious = detect_new_wallets_high_activity(df, recent_days, min_transactions)\n",
        "    repeated_gas_suspicious = detect_repeated_gas_usage(df, min_repeats)\n",
        "\n",
        "    # Combine all suspicious addresses\n",
        "    suspicious_addresses = set(high_freq_suspicious).intersection(\n",
        "        small_repetitive_suspicious,\n",
        "        multiple_wallets_suspicious,\n",
        "        new_wallets_suspicious,\n",
        "        repeated_gas_suspicious\n",
        "    )\n",
        "\n",
        "    return suspicious_addresses\n",
        "\n",
        "# Example usage\n",
        "# df = pd.read_csv('your_data.csv')  # Load your data here\n",
        "suspicious_wallets = detect_suspicious_wallets(enriched_df)\n",
        "print(suspicious_wallets)\n"
      ],
      "metadata": {
        "id": "XMIGm4GfTN4J",
        "colab": {
          "base_uri": "https://localhost:8080/",
          "height": 347
        },
        "outputId": "2689bfa6-e472-4876-97fd-86e87a51c3c1"
      },
      "execution_count": null,
      "outputs": [
        {
          "output_type": "error",
          "ename": "KeyError",
          "evalue": "'from_address'",
          "traceback": [
            "\u001b[0;31m---------------------------------------------------------------------------\u001b[0m",
            "\u001b[0;31mKeyError\u001b[0m                                  Traceback (most recent call last)",
            "\u001b[0;32m<ipython-input-11-996a5ab0af87>\u001b[0m in \u001b[0;36m<cell line: 68>\u001b[0;34m()\u001b[0m\n\u001b[1;32m     66\u001b[0m \u001b[0;31m# Example usage\u001b[0m\u001b[0;34m\u001b[0m\u001b[0;34m\u001b[0m\u001b[0m\n\u001b[1;32m     67\u001b[0m \u001b[0;31m# df = pd.read_csv('your_data.csv')  # Load your data here\u001b[0m\u001b[0;34m\u001b[0m\u001b[0;34m\u001b[0m\u001b[0m\n\u001b[0;32m---> 68\u001b[0;31m \u001b[0msuspicious_wallets\u001b[0m \u001b[0;34m=\u001b[0m \u001b[0mdetect_suspicious_wallets\u001b[0m\u001b[0;34m(\u001b[0m\u001b[0menriched_df\u001b[0m\u001b[0;34m)\u001b[0m\u001b[0;34m\u001b[0m\u001b[0;34m\u001b[0m\u001b[0m\n\u001b[0m\u001b[1;32m     69\u001b[0m \u001b[0mprint\u001b[0m\u001b[0;34m(\u001b[0m\u001b[0msuspicious_wallets\u001b[0m\u001b[0;34m)\u001b[0m\u001b[0;34m\u001b[0m\u001b[0;34m\u001b[0m\u001b[0m\n",
            "\u001b[0;32m<ipython-input-11-996a5ab0af87>\u001b[0m in \u001b[0;36mdetect_suspicious_wallets\u001b[0;34m(df)\u001b[0m\n\u001b[1;32m     48\u001b[0m     \u001b[0mmin_repeats\u001b[0m \u001b[0;34m=\u001b[0m \u001b[0;36m3\u001b[0m  \u001b[0;31m# Minimum repeats for gas usage\u001b[0m\u001b[0;34m\u001b[0m\u001b[0;34m\u001b[0m\u001b[0m\n\u001b[1;32m     49\u001b[0m \u001b[0;34m\u001b[0m\u001b[0m\n\u001b[0;32m---> 50\u001b[0;31m     \u001b[0mhigh_freq_suspicious\u001b[0m \u001b[0;34m=\u001b[0m \u001b[0mdetect_high_frequency_transactions\u001b[0m\u001b[0;34m(\u001b[0m\u001b[0mdf\u001b[0m\u001b[0;34m,\u001b[0m \u001b[0mthreshold\u001b[0m\u001b[0;34m)\u001b[0m\u001b[0;34m\u001b[0m\u001b[0;34m\u001b[0m\u001b[0m\n\u001b[0m\u001b[1;32m     51\u001b[0m     \u001b[0msmall_repetitive_suspicious\u001b[0m \u001b[0;34m=\u001b[0m \u001b[0mdetect_small_repetitive_transactions\u001b[0m\u001b[0;34m(\u001b[0m\u001b[0mdf\u001b[0m\u001b[0;34m,\u001b[0m \u001b[0mmax_value\u001b[0m\u001b[0;34m)\u001b[0m\u001b[0;34m\u001b[0m\u001b[0;34m\u001b[0m\u001b[0m\n\u001b[1;32m     52\u001b[0m     \u001b[0mmultiple_wallets_suspicious\u001b[0m \u001b[0;34m=\u001b[0m \u001b[0mdetect_multiple_wallets_same_addresses\u001b[0m\u001b[0;34m(\u001b[0m\u001b[0mdf\u001b[0m\u001b[0;34m,\u001b[0m \u001b[0mmin_interactions\u001b[0m\u001b[0;34m)\u001b[0m\u001b[0;34m\u001b[0m\u001b[0;34m\u001b[0m\u001b[0m\n",
            "\u001b[0;32m<ipython-input-11-996a5ab0af87>\u001b[0m in \u001b[0;36mdetect_high_frequency_transactions\u001b[0;34m(df, threshold)\u001b[0m\n\u001b[1;32m      8\u001b[0m \u001b[0;31m# Define functions for each rule\u001b[0m\u001b[0;34m\u001b[0m\u001b[0;34m\u001b[0m\u001b[0m\n\u001b[1;32m      9\u001b[0m \u001b[0;32mdef\u001b[0m \u001b[0mdetect_high_frequency_transactions\u001b[0m\u001b[0;34m(\u001b[0m\u001b[0mdf\u001b[0m\u001b[0;34m,\u001b[0m \u001b[0mthreshold\u001b[0m\u001b[0;34m)\u001b[0m\u001b[0;34m:\u001b[0m\u001b[0;34m\u001b[0m\u001b[0;34m\u001b[0m\u001b[0m\n\u001b[0;32m---> 10\u001b[0;31m     \u001b[0mfrequent_transactions\u001b[0m \u001b[0;34m=\u001b[0m \u001b[0mdf\u001b[0m\u001b[0;34m.\u001b[0m\u001b[0mgroupby\u001b[0m\u001b[0;34m(\u001b[0m\u001b[0;34m'from_address'\u001b[0m\u001b[0;34m)\u001b[0m\u001b[0;34m.\u001b[0m\u001b[0msize\u001b[0m\u001b[0;34m(\u001b[0m\u001b[0;34m)\u001b[0m\u001b[0;34m\u001b[0m\u001b[0;34m\u001b[0m\u001b[0m\n\u001b[0m\u001b[1;32m     11\u001b[0m     \u001b[0msuspicious_addresses\u001b[0m \u001b[0;34m=\u001b[0m \u001b[0mfrequent_transactions\u001b[0m\u001b[0;34m[\u001b[0m\u001b[0mfrequent_transactions\u001b[0m \u001b[0;34m>\u001b[0m \u001b[0mthreshold\u001b[0m\u001b[0;34m]\u001b[0m\u001b[0;34m.\u001b[0m\u001b[0mindex\u001b[0m\u001b[0;34m\u001b[0m\u001b[0;34m\u001b[0m\u001b[0m\n\u001b[1;32m     12\u001b[0m     \u001b[0;32mreturn\u001b[0m \u001b[0msuspicious_addresses\u001b[0m\u001b[0;34m\u001b[0m\u001b[0;34m\u001b[0m\u001b[0m\n",
            "\u001b[0;32m/usr/local/lib/python3.10/dist-packages/pandas/core/frame.py\u001b[0m in \u001b[0;36mgroupby\u001b[0;34m(self, by, axis, level, as_index, sort, group_keys, observed, dropna)\u001b[0m\n\u001b[1;32m   8250\u001b[0m         \u001b[0maxis\u001b[0m \u001b[0;34m=\u001b[0m \u001b[0mself\u001b[0m\u001b[0;34m.\u001b[0m\u001b[0m_get_axis_number\u001b[0m\u001b[0;34m(\u001b[0m\u001b[0maxis\u001b[0m\u001b[0;34m)\u001b[0m\u001b[0;34m\u001b[0m\u001b[0;34m\u001b[0m\u001b[0m\n\u001b[1;32m   8251\u001b[0m \u001b[0;34m\u001b[0m\u001b[0m\n\u001b[0;32m-> 8252\u001b[0;31m         return DataFrameGroupBy(\n\u001b[0m\u001b[1;32m   8253\u001b[0m             \u001b[0mobj\u001b[0m\u001b[0;34m=\u001b[0m\u001b[0mself\u001b[0m\u001b[0;34m,\u001b[0m\u001b[0;34m\u001b[0m\u001b[0;34m\u001b[0m\u001b[0m\n\u001b[1;32m   8254\u001b[0m             \u001b[0mkeys\u001b[0m\u001b[0;34m=\u001b[0m\u001b[0mby\u001b[0m\u001b[0;34m,\u001b[0m\u001b[0;34m\u001b[0m\u001b[0;34m\u001b[0m\u001b[0m\n",
            "\u001b[0;32m/usr/local/lib/python3.10/dist-packages/pandas/core/groupby/groupby.py\u001b[0m in \u001b[0;36m__init__\u001b[0;34m(self, obj, keys, axis, level, grouper, exclusions, selection, as_index, sort, group_keys, observed, dropna)\u001b[0m\n\u001b[1;32m    929\u001b[0m \u001b[0;34m\u001b[0m\u001b[0m\n\u001b[1;32m    930\u001b[0m         \u001b[0;32mif\u001b[0m \u001b[0mgrouper\u001b[0m \u001b[0;32mis\u001b[0m \u001b[0;32mNone\u001b[0m\u001b[0;34m:\u001b[0m\u001b[0;34m\u001b[0m\u001b[0;34m\u001b[0m\u001b[0m\n\u001b[0;32m--> 931\u001b[0;31m             grouper, exclusions, obj = get_grouper(\n\u001b[0m\u001b[1;32m    932\u001b[0m                 \u001b[0mobj\u001b[0m\u001b[0;34m,\u001b[0m\u001b[0;34m\u001b[0m\u001b[0;34m\u001b[0m\u001b[0m\n\u001b[1;32m    933\u001b[0m                 \u001b[0mkeys\u001b[0m\u001b[0;34m,\u001b[0m\u001b[0;34m\u001b[0m\u001b[0;34m\u001b[0m\u001b[0m\n",
            "\u001b[0;32m/usr/local/lib/python3.10/dist-packages/pandas/core/groupby/grouper.py\u001b[0m in \u001b[0;36mget_grouper\u001b[0;34m(obj, key, axis, level, sort, observed, validate, dropna)\u001b[0m\n\u001b[1;32m    983\u001b[0m                 \u001b[0min_axis\u001b[0m\u001b[0;34m,\u001b[0m \u001b[0mlevel\u001b[0m\u001b[0;34m,\u001b[0m \u001b[0mgpr\u001b[0m \u001b[0;34m=\u001b[0m \u001b[0;32mFalse\u001b[0m\u001b[0;34m,\u001b[0m \u001b[0mgpr\u001b[0m\u001b[0;34m,\u001b[0m \u001b[0;32mNone\u001b[0m\u001b[0;34m\u001b[0m\u001b[0;34m\u001b[0m\u001b[0m\n\u001b[1;32m    984\u001b[0m             \u001b[0;32melse\u001b[0m\u001b[0;34m:\u001b[0m\u001b[0;34m\u001b[0m\u001b[0;34m\u001b[0m\u001b[0m\n\u001b[0;32m--> 985\u001b[0;31m                 \u001b[0;32mraise\u001b[0m \u001b[0mKeyError\u001b[0m\u001b[0;34m(\u001b[0m\u001b[0mgpr\u001b[0m\u001b[0;34m)\u001b[0m\u001b[0;34m\u001b[0m\u001b[0;34m\u001b[0m\u001b[0m\n\u001b[0m\u001b[1;32m    986\u001b[0m         \u001b[0;32melif\u001b[0m \u001b[0misinstance\u001b[0m\u001b[0;34m(\u001b[0m\u001b[0mgpr\u001b[0m\u001b[0;34m,\u001b[0m \u001b[0mGrouper\u001b[0m\u001b[0;34m)\u001b[0m \u001b[0;32mand\u001b[0m \u001b[0mgpr\u001b[0m\u001b[0;34m.\u001b[0m\u001b[0mkey\u001b[0m \u001b[0;32mis\u001b[0m \u001b[0;32mnot\u001b[0m \u001b[0;32mNone\u001b[0m\u001b[0;34m:\u001b[0m\u001b[0;34m\u001b[0m\u001b[0;34m\u001b[0m\u001b[0m\n\u001b[1;32m    987\u001b[0m             \u001b[0;31m# Add key to exclusions\u001b[0m\u001b[0;34m\u001b[0m\u001b[0;34m\u001b[0m\u001b[0m\n",
            "\u001b[0;31mKeyError\u001b[0m: 'from_address'"
          ]
        }
      ]
    },
    {
      "cell_type": "code",
      "source": [
        "df['value_bignumeric'].value_counts().sort_index()"
      ],
      "metadata": {
        "id": "vwcDX4Hu1m4V",
        "colab": {
          "base_uri": "https://localhost:8080/",
          "height": 144
        },
        "outputId": "cf343b53-673f-44c6-c13a-f1583af6a0f1"
      },
      "execution_count": null,
      "outputs": [
        {
          "output_type": "error",
          "ename": "NameError",
          "evalue": "name 'df' is not defined",
          "traceback": [
            "\u001b[0;31m---------------------------------------------------------------------------\u001b[0m",
            "\u001b[0;31mNameError\u001b[0m                                 Traceback (most recent call last)",
            "\u001b[0;32m<ipython-input-12-9d61098e8623>\u001b[0m in \u001b[0;36m<cell line: 1>\u001b[0;34m()\u001b[0m\n\u001b[0;32m----> 1\u001b[0;31m \u001b[0mdf\u001b[0m\u001b[0;34m[\u001b[0m\u001b[0;34m'value_bignumeric'\u001b[0m\u001b[0;34m]\u001b[0m\u001b[0;34m.\u001b[0m\u001b[0mvalue_counts\u001b[0m\u001b[0;34m(\u001b[0m\u001b[0;34m)\u001b[0m\u001b[0;34m.\u001b[0m\u001b[0msort_index\u001b[0m\u001b[0;34m(\u001b[0m\u001b[0;34m)\u001b[0m\u001b[0;34m\u001b[0m\u001b[0;34m\u001b[0m\u001b[0m\n\u001b[0m",
            "\u001b[0;31mNameError\u001b[0m: name 'df' is not defined"
          ]
        }
      ]
    },
    {
      "cell_type": "code",
      "source": [
        "df['nonce'].astype('int').plot(kind='hist')"
      ],
      "metadata": {
        "id": "LYRbmLe71t1y"
      },
      "execution_count": null,
      "outputs": []
    },
    {
      "cell_type": "code",
      "source": [
        "_M = df['nonce']>\n",
        "df['nonce'].astype('int').plot(kind='hist')"
      ],
      "metadata": {
        "id": "4Zlm7GHY5QZc"
      },
      "execution_count": null,
      "outputs": []
    },
    {
      "cell_type": "code",
      "source": [],
      "metadata": {
        "id": "WmTPTM5A5Mvj"
      },
      "execution_count": null,
      "outputs": []
    },
    {
      "cell_type": "code",
      "source": [],
      "metadata": {
        "id": "YNtn2IRD4J9j"
      },
      "execution_count": null,
      "outputs": []
    },
    {
      "cell_type": "code",
      "source": [],
      "metadata": {
        "id": "19ybe4zR1oXu"
      },
      "execution_count": null,
      "outputs": []
    },
    {
      "cell_type": "code",
      "source": [
        "_M = df['value_bignumeric']<\n",
        "df['value_bignumeric'].astype('float').plot(kind='hist')"
      ],
      "metadata": {
        "id": "1oFJvYj50Y_K"
      },
      "execution_count": null,
      "outputs": []
    },
    {
      "cell_type": "code",
      "source": [],
      "metadata": {
        "id": "oJ-5Zd-K1M6S"
      },
      "execution_count": null,
      "outputs": []
    },
    {
      "cell_type": "code",
      "source": [],
      "metadata": {
        "id": "6kekHsSM1Hse"
      },
      "execution_count": null,
      "outputs": []
    },
    {
      "cell_type": "code",
      "source": [],
      "metadata": {
        "id": "d6iMV84B0tpl"
      },
      "execution_count": null,
      "outputs": []
    },
    {
      "cell_type": "code",
      "source": [],
      "metadata": {
        "id": "lt1Kuoi_0drR"
      },
      "execution_count": null,
      "outputs": []
    },
    {
      "cell_type": "code",
      "source": [
        "df.shape, len(suspicious_wallets)"
      ],
      "metadata": {
        "id": "fTLBNN2VXVIP"
      },
      "execution_count": null,
      "outputs": []
    },
    {
      "cell_type": "code",
      "source": [
        "len(set(suspicious_wallets))"
      ],
      "metadata": {
        "id": "SG-BYC-qXrSG"
      },
      "execution_count": null,
      "outputs": []
    },
    {
      "cell_type": "code",
      "source": [
        "enriched_df['is_suspicious'] = enriched_df['ID_social_id'].isin(suspicious_wallets)\n"
      ],
      "metadata": {
        "id": "4hMHbRBKhucn"
      },
      "execution_count": null,
      "outputs": []
    },
    {
      "cell_type": "code",
      "source": [
        "_M = enriched_df['is_suspicious']\n",
        "enriched_df[_M]['total_raw_scores'].plot(kind='hist', color='green')\n",
        "enriched_df[~_M]['total_raw_scores'].plot(kind='hist', color='blue')\n"
      ],
      "metadata": {
        "id": "5PH5k5yHiQ3u",
        "colab": {
          "base_uri": "https://localhost:8080/",
          "height": 490
        },
        "outputId": "57b22d76-7b11-416c-aa9a-e1e66489ee17"
      },
      "execution_count": null,
      "outputs": [
        {
          "output_type": "error",
          "ename": "KeyError",
          "evalue": "'is_suspicious'",
          "traceback": [
            "\u001b[0;31m---------------------------------------------------------------------------\u001b[0m",
            "\u001b[0;31mKeyError\u001b[0m                                  Traceback (most recent call last)",
            "\u001b[0;32m/usr/local/lib/python3.10/dist-packages/pandas/core/indexes/base.py\u001b[0m in \u001b[0;36mget_loc\u001b[0;34m(self, key)\u001b[0m\n\u001b[1;32m   3652\u001b[0m         \u001b[0;32mtry\u001b[0m\u001b[0;34m:\u001b[0m\u001b[0;34m\u001b[0m\u001b[0;34m\u001b[0m\u001b[0m\n\u001b[0;32m-> 3653\u001b[0;31m             \u001b[0;32mreturn\u001b[0m \u001b[0mself\u001b[0m\u001b[0;34m.\u001b[0m\u001b[0m_engine\u001b[0m\u001b[0;34m.\u001b[0m\u001b[0mget_loc\u001b[0m\u001b[0;34m(\u001b[0m\u001b[0mcasted_key\u001b[0m\u001b[0;34m)\u001b[0m\u001b[0;34m\u001b[0m\u001b[0;34m\u001b[0m\u001b[0m\n\u001b[0m\u001b[1;32m   3654\u001b[0m         \u001b[0;32mexcept\u001b[0m \u001b[0mKeyError\u001b[0m \u001b[0;32mas\u001b[0m \u001b[0merr\u001b[0m\u001b[0;34m:\u001b[0m\u001b[0;34m\u001b[0m\u001b[0;34m\u001b[0m\u001b[0m\n",
            "\u001b[0;32m/usr/local/lib/python3.10/dist-packages/pandas/_libs/index.pyx\u001b[0m in \u001b[0;36mpandas._libs.index.IndexEngine.get_loc\u001b[0;34m()\u001b[0m\n",
            "\u001b[0;32m/usr/local/lib/python3.10/dist-packages/pandas/_libs/index.pyx\u001b[0m in \u001b[0;36mpandas._libs.index.IndexEngine.get_loc\u001b[0;34m()\u001b[0m\n",
            "\u001b[0;32mpandas/_libs/hashtable_class_helper.pxi\u001b[0m in \u001b[0;36mpandas._libs.hashtable.PyObjectHashTable.get_item\u001b[0;34m()\u001b[0m\n",
            "\u001b[0;32mpandas/_libs/hashtable_class_helper.pxi\u001b[0m in \u001b[0;36mpandas._libs.hashtable.PyObjectHashTable.get_item\u001b[0;34m()\u001b[0m\n",
            "\u001b[0;31mKeyError\u001b[0m: 'is_suspicious'",
            "\nThe above exception was the direct cause of the following exception:\n",
            "\u001b[0;31mKeyError\u001b[0m                                  Traceback (most recent call last)",
            "\u001b[0;32m<ipython-input-13-e5d6bcfd2cbc>\u001b[0m in \u001b[0;36m<cell line: 1>\u001b[0;34m()\u001b[0m\n\u001b[0;32m----> 1\u001b[0;31m \u001b[0m_M\u001b[0m \u001b[0;34m=\u001b[0m \u001b[0menriched_df\u001b[0m\u001b[0;34m[\u001b[0m\u001b[0;34m'is_suspicious'\u001b[0m\u001b[0;34m]\u001b[0m\u001b[0;34m\u001b[0m\u001b[0;34m\u001b[0m\u001b[0m\n\u001b[0m\u001b[1;32m      2\u001b[0m \u001b[0menriched_df\u001b[0m\u001b[0;34m[\u001b[0m\u001b[0m_M\u001b[0m\u001b[0;34m]\u001b[0m\u001b[0;34m[\u001b[0m\u001b[0;34m'total_raw_scores'\u001b[0m\u001b[0;34m]\u001b[0m\u001b[0;34m.\u001b[0m\u001b[0mplot\u001b[0m\u001b[0;34m(\u001b[0m\u001b[0mkind\u001b[0m\u001b[0;34m=\u001b[0m\u001b[0;34m'hist'\u001b[0m\u001b[0;34m,\u001b[0m \u001b[0mcolor\u001b[0m\u001b[0;34m=\u001b[0m\u001b[0;34m'green'\u001b[0m\u001b[0;34m)\u001b[0m\u001b[0;34m\u001b[0m\u001b[0;34m\u001b[0m\u001b[0m\n\u001b[1;32m      3\u001b[0m \u001b[0menriched_df\u001b[0m\u001b[0;34m[\u001b[0m\u001b[0;34m~\u001b[0m\u001b[0m_M\u001b[0m\u001b[0;34m]\u001b[0m\u001b[0;34m[\u001b[0m\u001b[0;34m'total_raw_scores'\u001b[0m\u001b[0;34m]\u001b[0m\u001b[0;34m.\u001b[0m\u001b[0mplot\u001b[0m\u001b[0;34m(\u001b[0m\u001b[0mkind\u001b[0m\u001b[0;34m=\u001b[0m\u001b[0;34m'hist'\u001b[0m\u001b[0;34m,\u001b[0m \u001b[0mcolor\u001b[0m\u001b[0;34m=\u001b[0m\u001b[0;34m'blue'\u001b[0m\u001b[0;34m)\u001b[0m\u001b[0;34m\u001b[0m\u001b[0;34m\u001b[0m\u001b[0m\n",
            "\u001b[0;32m/usr/local/lib/python3.10/dist-packages/pandas/core/frame.py\u001b[0m in \u001b[0;36m__getitem__\u001b[0;34m(self, key)\u001b[0m\n\u001b[1;32m   3759\u001b[0m             \u001b[0;32mif\u001b[0m \u001b[0mself\u001b[0m\u001b[0;34m.\u001b[0m\u001b[0mcolumns\u001b[0m\u001b[0;34m.\u001b[0m\u001b[0mnlevels\u001b[0m \u001b[0;34m>\u001b[0m \u001b[0;36m1\u001b[0m\u001b[0;34m:\u001b[0m\u001b[0;34m\u001b[0m\u001b[0;34m\u001b[0m\u001b[0m\n\u001b[1;32m   3760\u001b[0m                 \u001b[0;32mreturn\u001b[0m \u001b[0mself\u001b[0m\u001b[0;34m.\u001b[0m\u001b[0m_getitem_multilevel\u001b[0m\u001b[0;34m(\u001b[0m\u001b[0mkey\u001b[0m\u001b[0;34m)\u001b[0m\u001b[0;34m\u001b[0m\u001b[0;34m\u001b[0m\u001b[0m\n\u001b[0;32m-> 3761\u001b[0;31m             \u001b[0mindexer\u001b[0m \u001b[0;34m=\u001b[0m \u001b[0mself\u001b[0m\u001b[0;34m.\u001b[0m\u001b[0mcolumns\u001b[0m\u001b[0;34m.\u001b[0m\u001b[0mget_loc\u001b[0m\u001b[0;34m(\u001b[0m\u001b[0mkey\u001b[0m\u001b[0;34m)\u001b[0m\u001b[0;34m\u001b[0m\u001b[0;34m\u001b[0m\u001b[0m\n\u001b[0m\u001b[1;32m   3762\u001b[0m             \u001b[0;32mif\u001b[0m \u001b[0mis_integer\u001b[0m\u001b[0;34m(\u001b[0m\u001b[0mindexer\u001b[0m\u001b[0;34m)\u001b[0m\u001b[0;34m:\u001b[0m\u001b[0;34m\u001b[0m\u001b[0;34m\u001b[0m\u001b[0m\n\u001b[1;32m   3763\u001b[0m                 \u001b[0mindexer\u001b[0m \u001b[0;34m=\u001b[0m \u001b[0;34m[\u001b[0m\u001b[0mindexer\u001b[0m\u001b[0;34m]\u001b[0m\u001b[0;34m\u001b[0m\u001b[0;34m\u001b[0m\u001b[0m\n",
            "\u001b[0;32m/usr/local/lib/python3.10/dist-packages/pandas/core/indexes/base.py\u001b[0m in \u001b[0;36mget_loc\u001b[0;34m(self, key)\u001b[0m\n\u001b[1;32m   3653\u001b[0m             \u001b[0;32mreturn\u001b[0m \u001b[0mself\u001b[0m\u001b[0;34m.\u001b[0m\u001b[0m_engine\u001b[0m\u001b[0;34m.\u001b[0m\u001b[0mget_loc\u001b[0m\u001b[0;34m(\u001b[0m\u001b[0mcasted_key\u001b[0m\u001b[0;34m)\u001b[0m\u001b[0;34m\u001b[0m\u001b[0;34m\u001b[0m\u001b[0m\n\u001b[1;32m   3654\u001b[0m         \u001b[0;32mexcept\u001b[0m \u001b[0mKeyError\u001b[0m \u001b[0;32mas\u001b[0m \u001b[0merr\u001b[0m\u001b[0;34m:\u001b[0m\u001b[0;34m\u001b[0m\u001b[0;34m\u001b[0m\u001b[0m\n\u001b[0;32m-> 3655\u001b[0;31m             \u001b[0;32mraise\u001b[0m \u001b[0mKeyError\u001b[0m\u001b[0;34m(\u001b[0m\u001b[0mkey\u001b[0m\u001b[0;34m)\u001b[0m \u001b[0;32mfrom\u001b[0m \u001b[0merr\u001b[0m\u001b[0;34m\u001b[0m\u001b[0;34m\u001b[0m\u001b[0m\n\u001b[0m\u001b[1;32m   3656\u001b[0m         \u001b[0;32mexcept\u001b[0m \u001b[0mTypeError\u001b[0m\u001b[0;34m:\u001b[0m\u001b[0;34m\u001b[0m\u001b[0;34m\u001b[0m\u001b[0m\n\u001b[1;32m   3657\u001b[0m             \u001b[0;31m# If we have a listlike key, _check_indexing_error will raise\u001b[0m\u001b[0;34m\u001b[0m\u001b[0;34m\u001b[0m\u001b[0m\n",
            "\u001b[0;31mKeyError\u001b[0m: 'is_suspicious'"
          ]
        }
      ]
    },
    {
      "cell_type": "code",
      "source": [
        "!pip install plotly\n"
      ],
      "metadata": {
        "id": "FlRlMtgWi5J7"
      },
      "execution_count": null,
      "outputs": []
    },
    {
      "cell_type": "code",
      "source": [
        "import plotly.express as px\n",
        "import plotly.graph_objects as go\n",
        "\n",
        "# Assuming _M is already defined as enriched_df['is_suspicious']\n",
        "_M = enriched_df['is_suspicious']\n",
        "\n",
        "# Create histograms for suspicious and non-suspicious wallets\n",
        "fig = go.Figure()\n",
        "\n",
        "fig.add_trace(go.Histogram(\n",
        "    x=enriched_df[_M]['total_raw_scores'],\n",
        "    nbinsx=30,\n",
        "    name='Suspicious Wallets',\n",
        "    marker_color='green',\n",
        "    opacity=0.75\n",
        "))\n",
        "\n",
        "fig.add_trace(go.Histogram(\n",
        "    x=enriched_df[~_M]['total_raw_scores'],\n",
        "    nbinsx=30,\n",
        "    name='Non-Suspicious Wallets',\n",
        "    marker_color='blue',\n",
        "    opacity=0.75\n",
        "))\n",
        "\n",
        "# Update layout\n",
        "fig.update_layout(\n",
        "    title='Distribution of Total Raw Scores',\n",
        "    xaxis_title='Total Raw Scores',\n",
        "    yaxis_title='Count',\n",
        "    barmode='overlay',\n",
        "    template='plotly_white'\n",
        ")\n",
        "\n",
        "fig.update_traces(opacity=0.6)\n",
        "\n",
        "# Show plot\n",
        "fig.show()\n"
      ],
      "metadata": {
        "id": "XIMNlBgdjEQD"
      },
      "execution_count": null,
      "outputs": []
    },
    {
      "cell_type": "code",
      "source": [
        "import plotly.express as px\n",
        "import plotly.graph_objects as go\n",
        "\n",
        "# Assuming _M is already defined as enriched_df['is_suspicious']\n",
        "_M = enriched_df['is_suspicious']\n",
        "\n",
        "# Create histograms for suspicious and non-suspicious wallets\n",
        "fig = go.Figure()\n",
        "\n",
        "fig.add_trace(go.Histogram(\n",
        "    x=enriched_df[_M]['Lie_rule_flag'],\n",
        "    nbinsx=30,\n",
        "    name='Suspicious Wallets',\n",
        "    marker_color='green',\n",
        "    opacity=0.75\n",
        "))\n",
        "\n",
        "fig.add_trace(go.Histogram(\n",
        "    x=enriched_df[~_M]['Lie_rule_flag'],\n",
        "    nbinsx=30,\n",
        "    name='Non-Suspicious Wallets',\n",
        "    marker_color='blue',\n",
        "    opacity=0.75\n",
        "))\n",
        "\n",
        "# Update layout\n",
        "fig.update_layout(\n",
        "    title='Distribution of Lie_rule_flag',\n",
        "    xaxis_title='Total Raw Scores',\n",
        "    yaxis_title='Count',\n",
        "    barmode='overlay',\n",
        "    template='plotly_white'\n",
        ")\n",
        "\n",
        "fig.update_traces(opacity=0.6)\n",
        "\n",
        "# Show plot\n",
        "fig.show()\n"
      ],
      "metadata": {
        "id": "ng_1lBKsjH-X"
      },
      "execution_count": null,
      "outputs": []
    },
    {
      "cell_type": "code",
      "source": [],
      "metadata": {
        "id": "x6F1EHuViiLq"
      },
      "execution_count": null,
      "outputs": []
    },
    {
      "cell_type": "code",
      "source": [],
      "metadata": {
        "id": "Qt-dNW8Sifce"
      },
      "execution_count": null,
      "outputs": []
    },
    {
      "cell_type": "code",
      "source": [],
      "metadata": {
        "id": "XyKbit6CiTuQ"
      },
      "execution_count": null,
      "outputs": []
    },
    {
      "cell_type": "code",
      "source": [],
      "metadata": {
        "id": "7ToK0rjJh_E9"
      },
      "execution_count": null,
      "outputs": []
    },
    {
      "cell_type": "code",
      "source": [],
      "metadata": {
        "id": "bCQevgkvh8jH"
      },
      "execution_count": null,
      "outputs": []
    },
    {
      "cell_type": "code",
      "source": [],
      "metadata": {
        "id": "QZyud86gh3bs"
      },
      "execution_count": null,
      "outputs": []
    },
    {
      "cell_type": "code",
      "source": [],
      "metadata": {
        "id": "QaZzu0HlXpWJ"
      },
      "execution_count": null,
      "outputs": []
    },
    {
      "cell_type": "code",
      "source": [],
      "metadata": {
        "id": "7cDMQzelXmlg"
      },
      "execution_count": null,
      "outputs": []
    }
  ]
}